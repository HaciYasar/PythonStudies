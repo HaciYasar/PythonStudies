{
  "nbformat": 4,
  "nbformat_minor": 0,
  "metadata": {
    "colab": {
      "name": "Simple_python_exercises_16.ipynb",
      "provenance": [],
      "collapsed_sections": [],
      "authorship_tag": "ABX9TyNbXaeIGF3x4DFHjZEPuhsQ",
      "include_colab_link": true
    },
    "kernelspec": {
      "name": "python3",
      "display_name": "Python 3"
    },
    "language_info": {
      "name": "python"
    }
  },
  "cells": [
    {
      "cell_type": "markdown",
      "metadata": {
        "id": "view-in-github",
        "colab_type": "text"
      },
      "source": [
        "<a href=\"https://colab.research.google.com/github/HaciYasar/PythonStudies/blob/main/Simple_python_exercises_16.ipynb\" target=\"_parent\"><img src=\"https://colab.research.google.com/assets/colab-badge.svg\" alt=\"Open In Colab\"/></a>"
      ]
    },
    {
      "cell_type": "code",
      "source": [
        "# İntroduction"
      ],
      "metadata": {
        "id": "5yZqKznEQnL-"
      },
      "execution_count": null,
      "outputs": []
    },
    {
      "cell_type": "code",
      "execution_count": null,
      "metadata": {
        "id": "15pZ1bP3NTm1"
      },
      "outputs": [],
      "source": [
        "while True:\n",
        "    no_one = int(input(\"The first number please : \"))\n",
        "    no_two = int(input(\"The second number please : \"))\n",
        "    division = no_one / no_two\n",
        "    print(\"The result of the division is : \", division)\n",
        "    break"
      ]
    },
    {
      "cell_type": "code",
      "source": [
        "while True:\n",
        "    no_one = int(input(\"The first number please : \"))\n",
        "    no_two = int(input(\"The second number please : \"))\n",
        "    try:\n",
        "        division = no_one / no_two\n",
        "        print(\"The result of the division is : \", division)\n",
        "        break\n",
        "    except Exception as fırfırik:\n",
        "        print(\"Something went wrong...Try again.\")\n",
        "        print(\"Probably it is because of '{}' error\".format(fırfırik))\n",
        "        break"
      ],
      "metadata": {
        "id": "RX3I-wvbQMDp"
      },
      "execution_count": null,
      "outputs": []
    },
    {
      "cell_type": "code",
      "source": [
        "try :\n",
        "  x = 2 / 0\n",
        "except ZeroDivisionError :\n",
        "  print(\"You are trying to divide by zero\")\n",
        "except :\n",
        "  print(\"Someting went wrong.\")"
      ],
      "metadata": {
        "colab": {
          "base_uri": "https://localhost:8080/"
        },
        "id": "FY9RKy-sQnIx",
        "outputId": "89767686-036d-44cc-a77b-43a728d482ad"
      },
      "execution_count": null,
      "outputs": [
        {
          "output_type": "stream",
          "name": "stdout",
          "text": [
            "You are trying to divide by zero\n"
          ]
        }
      ]
    },
    {
      "cell_type": "code",
      "source": [
        "fruits = [\"banana\", \"mango\", \"pear\", \"apple\", \"kiwi\", \"grape\"]"
      ],
      "metadata": {
        "id": "qZq8AgK6Qm8K"
      },
      "execution_count": null,
      "outputs": []
    },
    {
      "cell_type": "code",
      "source": [
        "while True :\n",
        "\n",
        "  try:\n",
        "    index = int(input(\"pick an index number :\"))\n",
        "    print(\"Your favorite fruit is :\", fruits[index])\n",
        "    break\n",
        "  \n",
        "  except IndexError :\n",
        "    print(\"There is no such an index. Try again!\")\n",
        "  except ValueError :\n",
        "    print(\"You should enter integer. Try again!\")"
      ],
      "metadata": {
        "id": "I8WNHLXYQm5g"
      },
      "execution_count": null,
      "outputs": []
    },
    {
      "cell_type": "code",
      "source": [
        "counter = 3\n",
        "while counter > 0 :\n",
        "  try :\n",
        "    print(f\"You have {counter} right.\")\n",
        "    index = int(input(\"Pick an index number :\"))\n",
        "    print(\"Your favoritte fruit is :\", fruits[index])\n",
        "  \n",
        "  except IndexError :\n",
        "    counter = counter - 1\n",
        "    print(f\"Value error raised. You have {counter} right left. Try again!\")\n",
        "\n",
        "  except ValueError :\n",
        "    counter = counter - 1\n",
        "    print(f\"Value error raised. You have {counter} rigth left. Try again!\")\n",
        "\n",
        "  else :\n",
        "      print(\"Congrats! You' ve entered valid input.\")\n",
        "      break\n",
        "\n",
        "  finally :\n",
        "      print(\"Our fruits are always fresh!\")"
      ],
      "metadata": {
        "id": "FAf2MriDjIqi"
      },
      "execution_count": null,
      "outputs": []
    },
    {
      "cell_type": "code",
      "source": [
        "hacı yaşar\n",
        "hacı yaşar\n",
        "hacı yaşar\n",
        "hacı yaşar\n",
        "hacı yaşar\n",
        "hacı yaşar\n",
        "hacı yaşar"
      ],
      "metadata": {
        "id": "VvYQv5nywhXH"
      },
      "execution_count": null,
      "outputs": []
    }
  ]
}