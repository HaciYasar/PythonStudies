city = ['New york', 'London', 'İstanbul', 'Seoul', 'Sydney']

city.append('Addis Ababa')
