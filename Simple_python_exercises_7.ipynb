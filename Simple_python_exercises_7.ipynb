{
  "nbformat": 4,
  "nbformat_minor": 0,
  "metadata": {
    "colab": {
      "name": "Simple_python_exercises_7.ipynb",
      "provenance": [],
      "authorship_tag": "ABX9TyO+mk98XCoPQlN61VgN5eCN",
      "include_colab_link": true
    },
    "kernelspec": {
      "name": "python3",
      "display_name": "Python 3"
    },
    "language_info": {
      "name": "python"
    }
  },
  "cells": [
    {
      "cell_type": "markdown",
      "metadata": {
        "id": "view-in-github",
        "colab_type": "text"
      },
      "source": [
        "<a href=\"https://colab.research.google.com/github/HaciYasar/PythonStudies/blob/main/Simple_python_exercises_7.ipynb\" target=\"_parent\"><img src=\"https://colab.research.google.com/assets/colab-badge.svg\" alt=\"Open In Colab\"/></a>"
      ]
    },
    {
      "cell_type": "code",
      "execution_count": null,
      "metadata": {
        "colab": {
          "base_uri": "https://localhost:8080/"
        },
        "id": "02wHDKTzo7ff",
        "outputId": "a3cbffb1-f1d2-4a6f-e8bd-ff9c70651488"
      },
      "outputs": [
        {
          "output_type": "stream",
          "name": "stdout",
          "text": [
            "Adınızı girin :Hacı\n",
            "Merhaba, Hacı hoşgeldin.\n"
          ]
        }
      ],
      "source": [
        "a = input('Adınızı girin :')\n",
        "print('Merhaba, ' + a + ' hoşgeldin.')"
      ]
    },
    {
      "cell_type": "code",
      "source": [
        "negative_number  = -12366\n",
        "print(abs(negative_number))"
      ],
      "metadata": {
        "colab": {
          "base_uri": "https://localhost:8080/"
        },
        "id": "MvzuF37Ro9mv",
        "outputId": "856b2eca-34bd-4613-ae91-ead67161c186"
      },
      "execution_count": null,
      "outputs": [
        {
          "output_type": "stream",
          "name": "stdout",
          "text": [
            "12366\n"
          ]
        }
      ]
    },
    {
      "cell_type": "code",
      "source": [
        "complex_number = 3+5j\n",
        "print(abs(complex_number))"
      ],
      "metadata": {
        "colab": {
          "base_uri": "https://localhost:8080/"
        },
        "id": "EZstwQUSqd_5",
        "outputId": "1bc5d17b-147e-4c0e-81fe-a938c9722b38"
      },
      "execution_count": null,
      "outputs": [
        {
          "output_type": "stream",
          "name": "stdout",
          "text": [
            "5.830951894845301\n"
          ]
        }
      ]
    },
    {
      "cell_type": "code",
      "source": [
        "x = pow(3, 4)\n",
        "print(x)"
      ],
      "metadata": {
        "colab": {
          "base_uri": "https://localhost:8080/"
        },
        "id": "9hmCBnr6rjFZ",
        "outputId": "8c9ba440-34e6-4c22-a0ef-7d1e9b94f0ee"
      },
      "execution_count": null,
      "outputs": [
        {
          "output_type": "stream",
          "name": "stdout",
          "text": [
            "81\n"
          ]
        }
      ]
    },
    {
      "cell_type": "code",
      "source": [
        "class Person:\n",
        "  name = \"Chirag Goyal\"\n",
        "  age = 19\n",
        "  country = \"India\"\n",
        "  education = \"IIT Jodhpur\"\n",
        "print(dir(Person))"
      ],
      "metadata": {
        "colab": {
          "base_uri": "https://localhost:8080/"
        },
        "id": "Fxy9dimorsH_",
        "outputId": "a3ad65b9-29af-4f18-9eca-5009988fd3fc"
      },
      "execution_count": null,
      "outputs": [
        {
          "output_type": "stream",
          "name": "stdout",
          "text": [
            "['__class__', '__delattr__', '__dict__', '__dir__', '__doc__', '__eq__', '__format__', '__ge__', '__getattribute__', '__gt__', '__hash__', '__init__', '__init_subclass__', '__le__', '__lt__', '__module__', '__ne__', '__new__', '__reduce__', '__reduce_ex__', '__repr__', '__setattr__', '__sizeof__', '__str__', '__subclasshook__', '__weakref__', 'age', 'country', 'education', 'name']\n"
          ]
        }
      ]
    },
    {
      "cell_type": "code",
      "source": [
        "tuple = (\"5\", \"a\", \"4\", \"b\", \"1\", \"6\", \"c\", \"2\")\n",
        "print(sorted(tuple))"
      ],
      "metadata": {
        "colab": {
          "base_uri": "https://localhost:8080/"
        },
        "id": "Omzlcy3qr50n",
        "outputId": "e2780a48-a14e-4e94-d5e3-1d17a2c3b13e"
      },
      "execution_count": null,
      "outputs": [
        {
          "output_type": "stream",
          "name": "stdout",
          "text": [
            "['1', '2', '4', '5', '6', 'a', 'b', 'c']\n"
          ]
        }
      ]
    },
    {
      "cell_type": "code",
      "source": [
        "a = (1, 2, 3, -4, 6) \n",
        "print(sum(a, 7))"
      ],
      "metadata": {
        "colab": {
          "base_uri": "https://localhost:8080/"
        },
        "id": "mY3i9wvls1JJ",
        "outputId": "ff3b61bf-29bc-46bd-d91e-7144a2223951"
      },
      "execution_count": null,
      "outputs": [
        {
          "output_type": "stream",
          "name": "stdout",
          "text": [
            "15\n"
          ]
        }
      ]
    },
    {
      "cell_type": "code",
      "source": [
        ""
      ],
      "metadata": {
        "id": "oHU-_Tk_t8uj"
      },
      "execution_count": null,
      "outputs": []
    }
  ]
}