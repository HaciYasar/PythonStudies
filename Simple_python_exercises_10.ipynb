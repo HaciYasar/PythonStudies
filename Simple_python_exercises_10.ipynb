{
  "nbformat": 4,
  "nbformat_minor": 0,
  "metadata": {
    "colab": {
      "name": "Simple_python_exercises_10.ipynb",
      "provenance": [],
      "collapsed_sections": [],
      "authorship_tag": "ABX9TyNHXWVHfUqpnIr0fAVA2mEn",
      "include_colab_link": true
    },
    "kernelspec": {
      "name": "python3",
      "display_name": "Python 3"
    },
    "language_info": {
      "name": "python"
    }
  },
  "cells": [
    {
      "cell_type": "markdown",
      "metadata": {
        "id": "view-in-github",
        "colab_type": "text"
      },
      "source": [
        "<a href=\"https://colab.research.google.com/github/HaciYasar/PythonStudies/blob/main/Simple_python_exercises_10.ipynb\" target=\"_parent\"><img src=\"https://colab.research.google.com/assets/colab-badge.svg\" alt=\"Open In Colab\"/></a>"
      ]
    },
    {
      "cell_type": "code",
      "execution_count": null,
      "metadata": {
        "colab": {
          "base_uri": "https://localhost:8080/"
        },
        "id": "2ONEUBK_VPwJ",
        "outputId": "6252e5c5-2263-427e-d057-34fe7ca18f92"
      },
      "outputs": [
        {
          "output_type": "stream",
          "name": "stdout",
          "text": [
            "('A', 'l', 'p', 's')\n"
          ]
        }
      ],
      "source": [
        "mountain = tuple('Alps')  \n",
        "print(mountain)"
      ]
    },
    {
      "cell_type": "code",
      "source": [
        "tuple(range(1, 11))   # 1 ile 11 arası sayı oluşturur. örnek"
      ],
      "metadata": {
        "colab": {
          "base_uri": "https://localhost:8080/"
        },
        "id": "9WW7Zuo1ZZZh",
        "outputId": "abde050b-0287-4b7e-8311-3477bd17caa5"
      },
      "execution_count": null,
      "outputs": [
        {
          "output_type": "execute_result",
          "data": {
            "text/plain": [
              "(1, 2, 3, 4, 5, 6, 7, 8, 9, 10)"
            ]
          },
          "metadata": {},
          "execution_count": 5
        }
      ]
    },
    {
      "cell_type": "code",
      "source": [
        "sayılar = tuple(range(1, 11))"
      ],
      "metadata": {
        "id": "HmFvhwVqZ0zi"
      },
      "execution_count": null,
      "outputs": []
    },
    {
      "cell_type": "code",
      "source": [
        "sayılar"
      ],
      "metadata": {
        "colab": {
          "base_uri": "https://localhost:8080/"
        },
        "id": "RXyHzwlMbSv6",
        "outputId": "55306962-ac78-4159-e548-c80e96e03b0f"
      },
      "execution_count": null,
      "outputs": [
        {
          "output_type": "execute_result",
          "data": {
            "text/plain": [
              "(1, 2, 3, 4, 5, 6, 7, 8, 9, 10)"
            ]
          },
          "metadata": {},
          "execution_count": 7
        }
      ]
    },
    {
      "cell_type": "code",
      "source": [
        "liste_sayılar = list(sayılar)"
      ],
      "metadata": {
        "id": "WEtvDOnvbUin"
      },
      "execution_count": null,
      "outputs": []
    },
    {
      "cell_type": "code",
      "source": [
        "liste_sayılar"
      ],
      "metadata": {
        "colab": {
          "base_uri": "https://localhost:8080/"
        },
        "id": "0hfv806ObaBZ",
        "outputId": "6f319caa-2247-4320-8547-041ed288f24b"
      },
      "execution_count": null,
      "outputs": [
        {
          "output_type": "execute_result",
          "data": {
            "text/plain": [
              "[1, 2, 3, 4, 5, 6, 7, 8, 9, 10]"
            ]
          },
          "metadata": {},
          "execution_count": 9
        }
      ]
    },
    {
      "cell_type": "code",
      "source": [
        "liste_sayılar[2] = 33\n",
        "liste_sayılar"
      ],
      "metadata": {
        "colab": {
          "base_uri": "https://localhost:8080/"
        },
        "id": "lfNFHW5QbbnB",
        "outputId": "d4bb7e4e-99ed-4eb7-8b52-6bffd122911b"
      },
      "execution_count": null,
      "outputs": [
        {
          "output_type": "execute_result",
          "data": {
            "text/plain": [
              "[1, 2, 33, 4, 5, 6, 7, 8, 9, 10]"
            ]
          },
          "metadata": {},
          "execution_count": 10
        }
      ]
    },
    {
      "cell_type": "code",
      "source": [
        "liste_sayılar[-1] = 'ten'\n",
        "liste_sayılar"
      ],
      "metadata": {
        "colab": {
          "base_uri": "https://localhost:8080/"
        },
        "id": "njqLHH8mbmxa",
        "outputId": "f034507b-a1bc-4951-fd08-889c6af840f4"
      },
      "execution_count": null,
      "outputs": [
        {
          "output_type": "execute_result",
          "data": {
            "text/plain": [
              "[1, 2, 33, 4, 5, 6, 7, 8, 9, 'ten']"
            ]
          },
          "metadata": {},
          "execution_count": 11
        }
      ]
    },
    {
      "cell_type": "code",
      "source": [
        "sayılar[2]"
      ],
      "metadata": {
        "colab": {
          "base_uri": "https://localhost:8080/"
        },
        "id": "klmhChrJbwfQ",
        "outputId": "26c664e0-7312-4509-9747-e214a54bafc8"
      },
      "execution_count": null,
      "outputs": [
        {
          "output_type": "execute_result",
          "data": {
            "text/plain": [
              "3"
            ]
          },
          "metadata": {},
          "execution_count": 12
        }
      ]
    },
    {
      "cell_type": "code",
      "source": [
        "sayılar[2] = 33   # Sayılara atama yapılamaz."
      ],
      "metadata": {
        "colab": {
          "base_uri": "https://localhost:8080/",
          "height": 165
        },
        "id": "E25MDydDb1pg",
        "outputId": "b7db3b9b-3147-4326-f7f5-1211d8ce044c"
      },
      "execution_count": null,
      "outputs": [
        {
          "output_type": "error",
          "ename": "NameError",
          "evalue": "ignored",
          "traceback": [
            "\u001b[0;31m---------------------------------------------------------------------------\u001b[0m",
            "\u001b[0;31mNameError\u001b[0m                                 Traceback (most recent call last)",
            "\u001b[0;32m<ipython-input-1-39fe1151ec66>\u001b[0m in \u001b[0;36m<module>\u001b[0;34m()\u001b[0m\n\u001b[0;32m----> 1\u001b[0;31m \u001b[0msayılar\u001b[0m\u001b[0;34m[\u001b[0m\u001b[0;36m2\u001b[0m\u001b[0;34m]\u001b[0m \u001b[0;34m=\u001b[0m \u001b[0;36m33\u001b[0m   \u001b[0;31m# Sayılara atama yapılamaz.\u001b[0m\u001b[0;34m\u001b[0m\u001b[0;34m\u001b[0m\u001b[0m\n\u001b[0m",
            "\u001b[0;31mNameError\u001b[0m: name 'sayılar' is not defined"
          ]
        }
      ]
    },
    {
      "cell_type": "code",
      "source": [
        "mix_tuple = (\"11\", 11, [2, \"two\", (\"six\", 6)], (5, \"fair\")) \n",
        "mix_tuple[2][2][0]    # indexleme örnek"
      ],
      "metadata": {
        "colab": {
          "base_uri": "https://localhost:8080/",
          "height": 35
        },
        "id": "dknh4p7_b-14",
        "outputId": "d0354ee5-1b5a-47ca-a6ff-01162d8a75c3"
      },
      "execution_count": null,
      "outputs": [
        {
          "output_type": "execute_result",
          "data": {
            "application/vnd.google.colaboratory.intrinsic+json": {
              "type": "string"
            },
            "text/plain": [
              "'six'"
            ]
          },
          "metadata": {},
          "execution_count": 21
        }
      ]
    },
    {
      "cell_type": "code",
      "source": [
        "mix_tuple[2].append(False)    # Tuple'nin içerisindeki listeye eleman ekleyebiliyoruz.\n",
        "mix_tuple"
      ],
      "metadata": {
        "colab": {
          "base_uri": "https://localhost:8080/"
        },
        "id": "F9yrWrgAb-zT",
        "outputId": "cf72ea0a-9a73-475b-b98d-b7893004504e"
      },
      "execution_count": null,
      "outputs": [
        {
          "output_type": "execute_result",
          "data": {
            "text/plain": [
              "('11', 11, [2, 'two', ('six', 6), False], (5, 'fair'))"
            ]
          },
          "metadata": {},
          "execution_count": 22
        }
      ]
    },
    {
      "cell_type": "code",
      "source": [
        "mix_tuple[2][2][0].upper()"
      ],
      "metadata": {
        "colab": {
          "base_uri": "https://localhost:8080/",
          "height": 35
        },
        "id": "ILLd3O8-b-wb",
        "outputId": "13dff91b-f610-4425-c747-e5229c8986c2"
      },
      "execution_count": null,
      "outputs": [
        {
          "output_type": "execute_result",
          "data": {
            "application/vnd.google.colaboratory.intrinsic+json": {
              "type": "string"
            },
            "text/plain": [
              "'SIX'"
            ]
          },
          "metadata": {},
          "execution_count": 24
        }
      ]
    },
    {
      "cell_type": "code",
      "source": [
        "mix_tuple   # six sadece bir kereliğine büyütüldü. çıktı alındığında yine eskisine döner."
      ],
      "metadata": {
        "colab": {
          "base_uri": "https://localhost:8080/"
        },
        "id": "17aRGqtCd9y0",
        "outputId": "e7ebe122-8bdc-4f9a-af4e-87dfac4ab936"
      },
      "execution_count": null,
      "outputs": [
        {
          "output_type": "execute_result",
          "data": {
            "text/plain": [
              "('11', 11, [2, 'two', ('six', 6), False], (5, 'fair'))"
            ]
          },
          "metadata": {},
          "execution_count": 25
        }
      ]
    },
    {
      "cell_type": "code",
      "source": [
        "# Dictionary"
      ],
      "metadata": {
        "id": "5MFyxDK1d9wB"
      },
      "execution_count": null,
      "outputs": []
    },
    {
      "cell_type": "code",
      "source": [
        "first_dict = {1:\"one\", \"two\":2, False:[1,2,3], 1.5:(\"one\", \"two\"), (1,2):\"clarusway\"}"
      ],
      "metadata": {
        "id": "8QboZa-Hd9to"
      },
      "execution_count": null,
      "outputs": []
    },
    {
      "cell_type": "code",
      "source": [
        "first_dict    # Sırası farklı çıkabilir"
      ],
      "metadata": {
        "colab": {
          "base_uri": "https://localhost:8080/"
        },
        "id": "n-ySIsagb5tS",
        "outputId": "09469d76-9eb4-4e79-e76a-e09a5cf5938c"
      },
      "execution_count": null,
      "outputs": [
        {
          "output_type": "execute_result",
          "data": {
            "text/plain": [
              "{(1, 2): 'clarusway',\n",
              " 1: 'one',\n",
              " 1.5: ('one', 'two'),\n",
              " False: [1, 2, 3],\n",
              " 'two': 2}"
            ]
          },
          "metadata": {},
          "execution_count": 28
        }
      ]
    },
    {
      "cell_type": "code",
      "source": [
        "second_dict = {[1,2] : \"one\", \"two\" : 2, False:[1,2,3], 1.5:(\"one\", \"two\"), (1,2):\"clarusway\"}    #listeyi kabul etmiyor."
      ],
      "metadata": {
        "colab": {
          "base_uri": "https://localhost:8080/",
          "height": 165
        },
        "id": "DFwMa8Fhm_IN",
        "outputId": "894e0514-0972-4b5f-8877-b6f43cc1e38c"
      },
      "execution_count": null,
      "outputs": [
        {
          "output_type": "error",
          "ename": "TypeError",
          "evalue": "ignored",
          "traceback": [
            "\u001b[0;31m---------------------------------------------------------------------------\u001b[0m",
            "\u001b[0;31mTypeError\u001b[0m                                 Traceback (most recent call last)",
            "\u001b[0;32m<ipython-input-29-f174954bd5bd>\u001b[0m in \u001b[0;36m<module>\u001b[0;34m()\u001b[0m\n\u001b[0;32m----> 1\u001b[0;31m \u001b[0msecond_dict\u001b[0m \u001b[0;34m=\u001b[0m \u001b[0;34m{\u001b[0m\u001b[0;34m[\u001b[0m\u001b[0;36m1\u001b[0m\u001b[0;34m,\u001b[0m\u001b[0;36m2\u001b[0m\u001b[0;34m]\u001b[0m \u001b[0;34m:\u001b[0m \u001b[0;34m\"one\"\u001b[0m\u001b[0;34m,\u001b[0m \u001b[0;34m\"two\"\u001b[0m \u001b[0;34m:\u001b[0m \u001b[0;36m2\u001b[0m\u001b[0;34m,\u001b[0m \u001b[0;32mFalse\u001b[0m\u001b[0;34m:\u001b[0m\u001b[0;34m[\u001b[0m\u001b[0;36m1\u001b[0m\u001b[0;34m,\u001b[0m\u001b[0;36m2\u001b[0m\u001b[0;34m,\u001b[0m\u001b[0;36m3\u001b[0m\u001b[0;34m]\u001b[0m\u001b[0;34m,\u001b[0m \u001b[0;36m1.5\u001b[0m\u001b[0;34m:\u001b[0m\u001b[0;34m(\u001b[0m\u001b[0;34m\"one\"\u001b[0m\u001b[0;34m,\u001b[0m \u001b[0;34m\"two\"\u001b[0m\u001b[0;34m)\u001b[0m\u001b[0;34m,\u001b[0m \u001b[0;34m(\u001b[0m\u001b[0;36m1\u001b[0m\u001b[0;34m,\u001b[0m\u001b[0;36m2\u001b[0m\u001b[0;34m)\u001b[0m\u001b[0;34m:\u001b[0m\u001b[0;34m\"clarusway\"\u001b[0m\u001b[0;34m}\u001b[0m\u001b[0;34m\u001b[0m\u001b[0;34m\u001b[0m\u001b[0m\n\u001b[0m",
            "\u001b[0;31mTypeError\u001b[0m: unhashable type: 'list'"
          ]
        }
      ]
    },
    {
      "cell_type": "code",
      "source": [
        "second_dict = {{1 : 2} \"one\", \"two\" : 2, False:[1,2,3], 1.5:(\"one\", \"two\"), (1,2):\"clarusway\"} # Dictionary kabul etmedi."
      ],
      "metadata": {
        "colab": {
          "base_uri": "https://localhost:8080/",
          "height": 130
        },
        "id": "xeq5VW2xm_DL",
        "outputId": "0cdc1258-f087-40a6-80f5-6890d43b5560"
      },
      "execution_count": null,
      "outputs": [
        {
          "output_type": "error",
          "ename": "SyntaxError",
          "evalue": "ignored",
          "traceback": [
            "\u001b[0;36m  File \u001b[0;32m\"<ipython-input-30-8c4c807bf63c>\"\u001b[0;36m, line \u001b[0;32m1\u001b[0m\n\u001b[0;31m    second_dict = {{1 : 2} \"one\", \"two\" : 2, False:[1,2,3], 1.5:(\"one\", \"two\"), (1,2):\"clarusway\"}\u001b[0m\n\u001b[0m                               ^\u001b[0m\n\u001b[0;31mSyntaxError\u001b[0m\u001b[0;31m:\u001b[0m invalid syntax\n"
          ]
        }
      ]
    },
    {
      "cell_type": "code",
      "source": [
        "dict(sayılar = [1,2,3], harfler = {1 : \"bir\"})"
      ],
      "metadata": {
        "colab": {
          "base_uri": "https://localhost:8080/"
        },
        "id": "sxZvr2glpEri",
        "outputId": "a46462e5-acf5-47a2-9602-8f0beb68c5c2"
      },
      "execution_count": null,
      "outputs": [
        {
          "output_type": "execute_result",
          "data": {
            "text/plain": [
              "{'harfler': {1: 'bir'}, 'sayılar': [1, 2, 3]}"
            ]
          },
          "metadata": {},
          "execution_count": 32
        }
      ]
    },
    {
      "cell_type": "code",
      "source": [
        "first_dict"
      ],
      "metadata": {
        "colab": {
          "base_uri": "https://localhost:8080/"
        },
        "id": "hJ_0FqUipEoQ",
        "outputId": "50c2d847-bd30-49c9-8d66-a385af5e8aca"
      },
      "execution_count": null,
      "outputs": [
        {
          "output_type": "execute_result",
          "data": {
            "text/plain": [
              "{(1, 2): 'clarusway',\n",
              " 1: 'one',\n",
              " 1.5: ('one', 'two'),\n",
              " False: [1, 2, 3],\n",
              " 'two': 2}"
            ]
          },
          "metadata": {},
          "execution_count": 33
        }
      ]
    },
    {
      "cell_type": "code",
      "source": [
        "first_dict[False]   # key1 indexlendiğinde key2 i verir."
      ],
      "metadata": {
        "colab": {
          "base_uri": "https://localhost:8080/"
        },
        "id": "XQWpYzxQpEjE",
        "outputId": "65779880-5416-47c6-a07e-93a3a95db272"
      },
      "execution_count": null,
      "outputs": [
        {
          "output_type": "execute_result",
          "data": {
            "text/plain": [
              "[1, 2, 3]"
            ]
          },
          "metadata": {},
          "execution_count": 34
        }
      ]
    },
    {
      "cell_type": "code",
      "source": [
        "first_dict[\"two\"]"
      ],
      "metadata": {
        "colab": {
          "base_uri": "https://localhost:8080/"
        },
        "id": "l-kqNs-QpEfq",
        "outputId": "d922a396-8313-4daa-f4e9-77cb4024762e"
      },
      "execution_count": null,
      "outputs": [
        {
          "output_type": "execute_result",
          "data": {
            "text/plain": [
              "2"
            ]
          },
          "metadata": {},
          "execution_count": 35
        }
      ]
    },
    {
      "cell_type": "code",
      "source": [
        "state_capitals = {'Arkansas':'Little Rock',\n",
        "\t\t\t'Colorado':'Denver',\n",
        "\t\t\t'California':'Sacramento',\n",
        "\t\t\t'Georgia':'Atlanta'\n",
        "\t\t\t}\n",
        "state_capitals['Virginia'] = 'Richmond'\n",
        "print(state_capitals)"
      ],
      "metadata": {
        "colab": {
          "base_uri": "https://localhost:8080/"
        },
        "id": "51L1AIvDrpxZ",
        "outputId": "e0f03cd9-6a79-4f7d-8c47-385c966ae422"
      },
      "execution_count": null,
      "outputs": [
        {
          "output_type": "stream",
          "name": "stdout",
          "text": [
            "{'Arkansas': 'Little Rock', 'Colorado': 'Denver', 'California': 'Sacramento', 'Georgia': 'Atlanta', 'Virginia': 'Richmond'}\n"
          ]
        }
      ]
    },
    {
      "cell_type": "code",
      "source": [
        "state_capitals[\"colorada\"] = 123    \n",
        "state_capitals"
      ],
      "metadata": {
        "colab": {
          "base_uri": "https://localhost:8080/"
        },
        "id": "n6tDAskDsSxg",
        "outputId": "35365c8b-f7d9-4e6b-a30d-6a82f15306f8"
      },
      "execution_count": null,
      "outputs": [
        {
          "output_type": "execute_result",
          "data": {
            "text/plain": [
              "{'Arkansas': 'Little Rock',\n",
              " 'California': 'Sacramento',\n",
              " 'Colorado': 'Denver',\n",
              " 'Georgia': 'Atlanta',\n",
              " 'Virginia': 'Richmond',\n",
              " 'colorada': 123}"
            ]
          },
          "metadata": {},
          "execution_count": 38
        }
      ]
    },
    {
      "cell_type": "code",
      "source": [
        "family = {\"name\": \"Aysima\", \"name1\": \"Ebrarnaz\", \"name3\": \"Hacı\"}\n",
        "family"
      ],
      "metadata": {
        "colab": {
          "base_uri": "https://localhost:8080/"
        },
        "id": "_UzvHq0ssZDg",
        "outputId": "7b0f8256-b700-45a9-bc61-20edc5ce5856"
      },
      "execution_count": null,
      "outputs": [
        {
          "output_type": "execute_result",
          "data": {
            "text/plain": [
              "{'name': 'Aysima', 'name1': 'Ebrarnaz', 'name3': 'Hacı'}"
            ]
          },
          "metadata": {},
          "execution_count": 41
        }
      ]
    },
    {
      "cell_type": "code",
      "source": [
        "family[\"name4\"] = \"Kübra\"   # Yeni bir item tanımlamanın en basit yöntemidir.\n",
        "family"
      ],
      "metadata": {
        "colab": {
          "base_uri": "https://localhost:8080/"
        },
        "id": "gqS-lHHZsffE",
        "outputId": "a1753329-806a-477a-8f7d-9f2c35acebb3"
      },
      "execution_count": null,
      "outputs": [
        {
          "output_type": "execute_result",
          "data": {
            "text/plain": [
              "{'name': 'Aysima', 'name1': 'Ebrarnaz', 'name3': 'Hacı', 'name4': 'Kübra'}"
            ]
          },
          "metadata": {},
          "execution_count": 43
        }
      ]
    },
    {
      "cell_type": "code",
      "source": [
        "bi_örnek = {\"ali\" : 1, \"deli\" : 1, \"veli\" : 1}\n",
        "bi_örnek"
      ],
      "metadata": {
        "colab": {
          "base_uri": "https://localhost:8080/"
        },
        "id": "IJoo_HLHsfa2",
        "outputId": "822cacbf-4c9e-440e-dd93-0225ecce3908"
      },
      "execution_count": null,
      "outputs": [
        {
          "output_type": "execute_result",
          "data": {
            "text/plain": [
              "{'ali': 1, 'deli': 1, 'veli': 1}"
            ]
          },
          "metadata": {},
          "execution_count": 45
        }
      ]
    },
    {
      "cell_type": "code",
      "source": [
        "bi_örnek[\"ali\"] += 1\n",
        "bi_örnek"
      ],
      "metadata": {
        "colab": {
          "base_uri": "https://localhost:8080/"
        },
        "id": "FmD3RRgfsfWF",
        "outputId": "066fd2f3-6534-45ae-b3a5-335073d1c7c7"
      },
      "execution_count": null,
      "outputs": [
        {
          "output_type": "execute_result",
          "data": {
            "text/plain": [
              "{'ali': 2, 'deli': 1, 'veli': 1}"
            ]
          },
          "metadata": {},
          "execution_count": 50
        }
      ]
    },
    {
      "cell_type": "code",
      "source": [
        "bi_örnek[\"ali\"] += 1\n",
        "bi_örnek"
      ],
      "metadata": {
        "colab": {
          "base_uri": "https://localhost:8080/"
        },
        "id": "a60QRSVfuNaQ",
        "outputId": "e29764d7-e874-4419-da2d-7afc0fca6555"
      },
      "execution_count": null,
      "outputs": [
        {
          "output_type": "execute_result",
          "data": {
            "text/plain": [
              "{'ali': 3, 'deli': 1, 'veli': 1}"
            ]
          },
          "metadata": {},
          "execution_count": 51
        }
      ]
    },
    {
      "cell_type": "code",
      "source": [
        "bi_örnek[\"veli\"] += 1\n",
        "bi_örnek"
      ],
      "metadata": {
        "colab": {
          "base_uri": "https://localhost:8080/"
        },
        "id": "C8lf3oowupC0",
        "outputId": "11d7c7ad-fd35-45e9-f603-dc12b62acbae"
      },
      "execution_count": null,
      "outputs": [
        {
          "output_type": "execute_result",
          "data": {
            "text/plain": [
              "{'ali': 3, 'deli': 1, 'veli': 2}"
            ]
          },
          "metadata": {},
          "execution_count": 52
        }
      ]
    },
    {
      "cell_type": "code",
      "source": [
        "dict_by_dict = dict(animal='dog', planet='neptun', number=40, pi=3.14, is_good=True)\n",
        "dict_by_dict"
      ],
      "metadata": {
        "colab": {
          "base_uri": "https://localhost:8080/"
        },
        "id": "r84PNqfFusW7",
        "outputId": "46c219c6-1c6c-414f-9075-ca639deba083"
      },
      "execution_count": null,
      "outputs": [
        {
          "output_type": "execute_result",
          "data": {
            "text/plain": [
              "{'animal': 'dog',\n",
              " 'is_good': True,\n",
              " 'number': 40,\n",
              " 'pi': 3.14,\n",
              " 'planet': 'neptun'}"
            ]
          },
          "metadata": {},
          "execution_count": 54
        }
      ]
    },
    {
      "cell_type": "code",
      "source": [
        "dict_by_dict['animal']  # Değişkeni string ifadeyle çağırırız."
      ],
      "metadata": {
        "colab": {
          "base_uri": "https://localhost:8080/",
          "height": 35
        },
        "id": "OqMgv-iT3QrP",
        "outputId": "d1602e00-0ee8-46c9-d063-95b5290cf947"
      },
      "execution_count": null,
      "outputs": [
        {
          "output_type": "execute_result",
          "data": {
            "application/vnd.google.colaboratory.intrinsic+json": {
              "type": "string"
            },
            "text/plain": [
              "'dog'"
            ]
          },
          "metadata": {},
          "execution_count": 55
        }
      ]
    },
    {
      "cell_type": "code",
      "source": [
        "type(dict_by_dict[\"is_good\"])"
      ],
      "metadata": {
        "colab": {
          "base_uri": "https://localhost:8080/"
        },
        "id": "QVKaCWxf3Qo6",
        "outputId": "72b74e0d-57fd-493f-efed-4fa697c69004"
      },
      "execution_count": null,
      "outputs": [
        {
          "output_type": "execute_result",
          "data": {
            "text/plain": [
              "bool"
            ]
          },
          "metadata": {},
          "execution_count": 56
        }
      ]
    },
    {
      "cell_type": "code",
      "source": [
        "family"
      ],
      "metadata": {
        "colab": {
          "base_uri": "https://localhost:8080/",
          "height": 165
        },
        "id": "dzfAo4TO3Qlg",
        "outputId": "b46e4962-f21a-44cc-c867-30d88db29ca0"
      },
      "execution_count": null,
      "outputs": [
        {
          "output_type": "error",
          "ename": "NameError",
          "evalue": "ignored",
          "traceback": [
            "\u001b[0;31m---------------------------------------------------------------------------\u001b[0m",
            "\u001b[0;31mNameError\u001b[0m                                 Traceback (most recent call last)",
            "\u001b[0;32m<ipython-input-4-001bfd2ccaf5>\u001b[0m in \u001b[0;36m<module>\u001b[0;34m()\u001b[0m\n\u001b[0;32m----> 1\u001b[0;31m \u001b[0mfamily\u001b[0m\u001b[0;34m\u001b[0m\u001b[0;34m\u001b[0m\u001b[0m\n\u001b[0m",
            "\u001b[0;31mNameError\u001b[0m: name 'family' is not defined"
          ]
        }
      ]
    },
    {
      "cell_type": "code",
      "source": [
        "print(family)"
      ],
      "metadata": {
        "colab": {
          "base_uri": "https://localhost:8080/"
        },
        "id": "yKR5FQE35L5C",
        "outputId": "437a2ec5-a008-4793-ec14-711ec5c17ce2"
      },
      "execution_count": null,
      "outputs": [
        {
          "output_type": "stream",
          "name": "stdout",
          "text": [
            "{'name': 'Aysima', 'name1': 'Ebrarnaz', 'name3': 'Hacı', 'name4': 'Kübra'}\n"
          ]
        }
      ]
    },
    {
      "cell_type": "code",
      "source": [
        "dict()    # Boş dict üretebiliriz"
      ],
      "metadata": {
        "colab": {
          "base_uri": "https://localhost:8080/"
        },
        "id": "dqyuaIM_5iKX",
        "outputId": "85fcb527-22c9-4355-a6a9-eeb5058f71a1"
      },
      "execution_count": null,
      "outputs": [
        {
          "output_type": "execute_result",
          "data": {
            "text/plain": [
              "{}"
            ]
          },
          "metadata": {},
          "execution_count": 59
        }
      ]
    },
    {
      "cell_type": "code",
      "source": [
        "dict_by_dict"
      ],
      "metadata": {
        "colab": {
          "base_uri": "https://localhost:8080/"
        },
        "id": "RBqdlbK35sOR",
        "outputId": "1785487a-bff9-4d0f-b4bd-9b0f07958a97"
      },
      "execution_count": null,
      "outputs": [
        {
          "output_type": "execute_result",
          "data": {
            "text/plain": [
              "{'animal': 'dog',\n",
              " 'is_good': True,\n",
              " 'number': 40,\n",
              " 'pi': 3.14,\n",
              " 'planet': 'neptun'}"
            ]
          },
          "metadata": {},
          "execution_count": 60
        }
      ]
    },
    {
      "cell_type": "code",
      "source": [
        "dict_by_dict.update({\"yasemin\" : \"bayan\"})    #dict eleman ekleme"
      ],
      "metadata": {
        "id": "W6fwuK5250rW"
      },
      "execution_count": null,
      "outputs": []
    },
    {
      "cell_type": "code",
      "source": [
        "dict_by_dict"
      ],
      "metadata": {
        "colab": {
          "base_uri": "https://localhost:8080/"
        },
        "id": "vUjn5Xn26M3_",
        "outputId": "684b3760-f7e6-470e-c4bd-ef99dd389845"
      },
      "execution_count": null,
      "outputs": [
        {
          "output_type": "execute_result",
          "data": {
            "text/plain": [
              "{'animal': 'dog',\n",
              " 'is_good': True,\n",
              " 'number': 40,\n",
              " 'pi': 3.14,\n",
              " 'planet': 'neptun',\n",
              " 'yasemin': 'bayan'}"
            ]
          },
          "metadata": {},
          "execution_count": 62
        }
      ]
    },
    {
      "cell_type": "code",
      "source": [
        "dict_by_dict.update({\"ahmet\" : \"bay\", 11 : \"integer\"})  # dict birden fazla eleman üretir.\n",
        "dict_by_dict    # update metodu dict kalıcı olarak değiştirir."
      ],
      "metadata": {
        "id": "9PbWiQAJ6Obr",
        "colab": {
          "base_uri": "https://localhost:8080/"
        },
        "outputId": "d5c5c41c-da36-41da-ff59-16b6de593d0f"
      },
      "execution_count": null,
      "outputs": [
        {
          "output_type": "execute_result",
          "data": {
            "text/plain": [
              "{11: 'integer',\n",
              " 'ahmet': 'bay',\n",
              " 'animal': 'dog',\n",
              " 'is_good': True,\n",
              " 'number': 40,\n",
              " 'pi': 3.14,\n",
              " 'planet': 'neptun',\n",
              " 'yasemin': 'bayan'}"
            ]
          },
          "metadata": {},
          "execution_count": 64
        }
      ]
    },
    {
      "cell_type": "code",
      "source": [
        "family"
      ],
      "metadata": {
        "id": "5seK_4r97hWd",
        "colab": {
          "base_uri": "https://localhost:8080/",
          "height": 165
        },
        "outputId": "d57439c9-008d-4b5b-fa0e-2b5cbd6ad631"
      },
      "execution_count": null,
      "outputs": [
        {
          "output_type": "error",
          "ename": "NameError",
          "evalue": "ignored",
          "traceback": [
            "\u001b[0;31m---------------------------------------------------------------------------\u001b[0m",
            "\u001b[0;31mNameError\u001b[0m                                 Traceback (most recent call last)",
            "\u001b[0;32m<ipython-input-3-001bfd2ccaf5>\u001b[0m in \u001b[0;36m<module>\u001b[0;34m()\u001b[0m\n\u001b[0;32m----> 1\u001b[0;31m \u001b[0mfamily\u001b[0m\u001b[0;34m\u001b[0m\u001b[0;34m\u001b[0m\u001b[0m\n\u001b[0m",
            "\u001b[0;31mNameError\u001b[0m: name 'family' is not defined"
          ]
        }
      ]
    },
    {
      "cell_type": "code",
      "source": [
        "family"
      ],
      "metadata": {
        "id": "Idb6DdVW3MNn",
        "outputId": "f32dd731-bb39-4249-9b0d-706ed947271b",
        "colab": {
          "base_uri": "https://localhost:8080/",
          "height": 165
        }
      },
      "execution_count": null,
      "outputs": [
        {
          "output_type": "error",
          "ename": "NameError",
          "evalue": "ignored",
          "traceback": [
            "\u001b[0;31m---------------------------------------------------------------------------\u001b[0m",
            "\u001b[0;31mNameError\u001b[0m                                 Traceback (most recent call last)",
            "\u001b[0;32m<ipython-input-5-001bfd2ccaf5>\u001b[0m in \u001b[0;36m<module>\u001b[0;34m()\u001b[0m\n\u001b[0;32m----> 1\u001b[0;31m \u001b[0mfamily\u001b[0m\u001b[0;34m\u001b[0m\u001b[0;34m\u001b[0m\u001b[0m\n\u001b[0m",
            "\u001b[0;31mNameError\u001b[0m: name 'family' is not defined"
          ]
        }
      ]
    },
    {
      "cell_type": "code",
      "source": [
        ""
      ],
      "metadata": {
        "id": "VeyMG3wY42IM"
      },
      "execution_count": null,
      "outputs": []
    }
  ]
}