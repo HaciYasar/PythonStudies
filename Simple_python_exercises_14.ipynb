{
  "nbformat": 4,
  "nbformat_minor": 0,
  "metadata": {
    "colab": {
      "name": "Simple_python_exercises_14.ipynb",
      "provenance": [],
      "collapsed_sections": [],
      "authorship_tag": "ABX9TyPhMPtSMzGNibBWPefArrtv",
      "include_colab_link": true
    },
    "kernelspec": {
      "name": "python3",
      "display_name": "Python 3"
    },
    "language_info": {
      "name": "python"
    }
  },
  "cells": [
    {
      "cell_type": "markdown",
      "metadata": {
        "id": "view-in-github",
        "colab_type": "text"
      },
      "source": [
        "<a href=\"https://colab.research.google.com/github/HaciYasar/PythonStudies/blob/main/Simple_python_exercises_14.ipynb\" target=\"_parent\"><img src=\"https://colab.research.google.com/assets/colab-badge.svg\" alt=\"Open In Colab\"/></a>"
      ]
    },
    {
      "cell_type": "code",
      "execution_count": null,
      "metadata": {
        "id": "MG0sCn68XBwI"
      },
      "outputs": [],
      "source": [
        "def bes_bastır(): \n",
        "    print(5)"
      ]
    },
    {
      "cell_type": "code",
      "source": [
        "bes_bastır()"
      ],
      "metadata": {
        "colab": {
          "base_uri": "https://localhost:8080/"
        },
        "id": "kZBu5s5PXuNo",
        "outputId": "ca16dd54-2765-45b6-c403-17df9c503468"
      },
      "execution_count": null,
      "outputs": [
        {
          "output_type": "stream",
          "name": "stdout",
          "text": [
            "5\n"
          ]
        }
      ]
    },
    {
      "cell_type": "code",
      "source": [
        "def bes_dondur():\n",
        "    return 5"
      ],
      "metadata": {
        "id": "Wh1mcO61X5a1"
      },
      "execution_count": null,
      "outputs": []
    },
    {
      "cell_type": "code",
      "source": [
        "bes_dondur()"
      ],
      "metadata": {
        "colab": {
          "base_uri": "https://localhost:8080/"
        },
        "id": "wTMvmvzZZFlC",
        "outputId": "41f3836a-30c5-42d2-ab84-cc02ed50e806"
      },
      "execution_count": null,
      "outputs": [
        {
          "output_type": "execute_result",
          "data": {
            "text/plain": [
              "5"
            ]
          },
          "metadata": {},
          "execution_count": 6
        }
      ]
    },
    {
      "cell_type": "code",
      "source": [
        "a = bes_bastır()"
      ],
      "metadata": {
        "colab": {
          "base_uri": "https://localhost:8080/"
        },
        "id": "ngvApBxOZIeh",
        "outputId": "b926b690-c8a1-4c91-9f0e-a5a6be8b46c8"
      },
      "execution_count": null,
      "outputs": [
        {
          "output_type": "stream",
          "name": "stdout",
          "text": [
            "5\n"
          ]
        }
      ]
    },
    {
      "cell_type": "code",
      "source": [
        "b = bes_dondur()\n",
        "print(b)"
      ],
      "metadata": {
        "colab": {
          "base_uri": "https://localhost:8080/"
        },
        "id": "_MOuQ8zNZbBv",
        "outputId": "83a67f98-1822-40ff-fbef-90f2e92261d1"
      },
      "execution_count": null,
      "outputs": [
        {
          "output_type": "stream",
          "name": "stdout",
          "text": [
            "5\n"
          ]
        }
      ]
    },
    {
      "cell_type": "code",
      "source": [
        "def sayi_dondur(sayi):\n",
        "    return sayi"
      ],
      "metadata": {
        "id": "eARGNHqTZp24"
      },
      "execution_count": null,
      "outputs": []
    },
    {
      "cell_type": "code",
      "source": [
        "sayi_dondur(100)"
      ],
      "metadata": {
        "colab": {
          "base_uri": "https://localhost:8080/"
        },
        "id": "I63BO3WIZ-eA",
        "outputId": "db29b3e6-87e9-469b-bc24-19510ffb5942"
      },
      "execution_count": null,
      "outputs": [
        {
          "output_type": "execute_result",
          "data": {
            "text/plain": [
              "100"
            ]
          },
          "metadata": {},
          "execution_count": 12
        }
      ]
    },
    {
      "cell_type": "code",
      "source": [
        "def sayi_dondur(sayi=250):\n",
        "    return sayi"
      ],
      "metadata": {
        "id": "wU_uClOCaCWh"
      },
      "execution_count": null,
      "outputs": []
    },
    {
      "cell_type": "code",
      "source": [
        "sayi_dondur()"
      ],
      "metadata": {
        "colab": {
          "base_uri": "https://localhost:8080/"
        },
        "id": "K7KETQ_1aNLw",
        "outputId": "5caaf7e2-41e9-4c26-beea-464aebdb2cc7"
      },
      "execution_count": null,
      "outputs": [
        {
          "output_type": "execute_result",
          "data": {
            "text/plain": [
              "250"
            ]
          },
          "metadata": {},
          "execution_count": 14
        }
      ]
    },
    {
      "cell_type": "code",
      "source": [
        "def buyuk_sayi_döndür(a,b):\n",
        "    if a>b:\n",
        "      return a\n",
        "    elif b>a:\n",
        "      return b"
      ],
      "metadata": {
        "id": "zwdEVYVNaSO4"
      },
      "execution_count": null,
      "outputs": []
    },
    {
      "cell_type": "code",
      "source": [
        "buyuk_sayi_döndür(55,65)"
      ],
      "metadata": {
        "colab": {
          "base_uri": "https://localhost:8080/"
        },
        "id": "gaRi2hBWa9ov",
        "outputId": "9b22a1e8-f801-4493-8c8b-9cba154ab4b2"
      },
      "execution_count": null,
      "outputs": [
        {
          "output_type": "execute_result",
          "data": {
            "text/plain": [
              "65"
            ]
          },
          "metadata": {},
          "execution_count": 17
        }
      ]
    },
    {
      "cell_type": "code",
      "source": [
        "def metin_yazdir(a,b):\n",
        "    buyuk_sayi = buyuk_sayi_döndür(a,b)\n",
        "    sablon_metin = \"{} daha büyük sayidir\".format(buyuk_sayi)\n",
        "    print(sablon_metin)"
      ],
      "metadata": {
        "id": "5IQS1uu4bDw9"
      },
      "execution_count": null,
      "outputs": []
    },
    {
      "cell_type": "code",
      "source": [
        "metin_yazdir(5,10)"
      ],
      "metadata": {
        "colab": {
          "base_uri": "https://localhost:8080/"
        },
        "id": "rWfiEY0pcRDX",
        "outputId": "6d394c5b-f78d-403f-cec7-bda0008435a1"
      },
      "execution_count": null,
      "outputs": [
        {
          "output_type": "stream",
          "name": "stdout",
          "text": [
            "10 daha büyük sayidir\n"
          ]
        }
      ]
    },
    {
      "cell_type": "code",
      "source": [
        "def isim_soyisim_ayirma(isim_soyisim):\n",
        "    isim = isim_soyisim.split()[0]\n",
        "    soyisim=isim_soyisim.split()[1]\n",
        "    return isim, soyisim"
      ],
      "metadata": {
        "id": "C2tz5t7wcU4T"
      },
      "execution_count": null,
      "outputs": []
    },
    {
      "cell_type": "code",
      "source": [
        "isim_soyisim_ayirma(\"Gökçe Gül\")"
      ],
      "metadata": {
        "colab": {
          "base_uri": "https://localhost:8080/"
        },
        "id": "OnDCQ2A0c-Xa",
        "outputId": "78e72279-2e84-4bd3-985a-2af24a443b5f"
      },
      "execution_count": null,
      "outputs": [
        {
          "output_type": "execute_result",
          "data": {
            "text/plain": [
              "('Gökçe', 'Gül')"
            ]
          },
          "metadata": {},
          "execution_count": 21
        }
      ]
    },
    {
      "cell_type": "code",
      "source": [
        "\" \".join([\"Gökçe\", \"Gül\"])"
      ],
      "metadata": {
        "colab": {
          "base_uri": "https://localhost:8080/",
          "height": 35
        },
        "id": "sBJABykKdC7T",
        "outputId": "66ede4c5-0931-4da0-b855-c3eb9a5915f3"
      },
      "execution_count": null,
      "outputs": [
        {
          "output_type": "execute_result",
          "data": {
            "application/vnd.google.colaboratory.intrinsic+json": {
              "type": "string"
            },
            "text/plain": [
              "'Gökçe Gül'"
            ]
          },
          "metadata": {},
          "execution_count": 22
        }
      ]
    },
    {
      "cell_type": "code",
      "source": [
        "def isim_soyisim_birleştir(isim, soyisim):\n",
        "    return \" \".join([isim, soyisim])"
      ],
      "metadata": {
        "id": "RVGvT_sndHT9"
      },
      "execution_count": null,
      "outputs": []
    },
    {
      "cell_type": "code",
      "source": [
        "isim_soyisim_birleştir(\"Ahmet\", \"Bozkurt\")"
      ],
      "metadata": {
        "colab": {
          "base_uri": "https://localhost:8080/",
          "height": 35
        },
        "id": "AbZs-4CjdHQ6",
        "outputId": "9b3e683a-d644-4678-cf83-64edd73ad5c4"
      },
      "execution_count": null,
      "outputs": [
        {
          "output_type": "execute_result",
          "data": {
            "application/vnd.google.colaboratory.intrinsic+json": {
              "type": "string"
            },
            "text/plain": [
              "'Ahmet Bozkurt'"
            ]
          },
          "metadata": {},
          "execution_count": 33
        }
      ]
    },
    {
      "cell_type": "code",
      "source": [
        "def diğer_adi_yazdir(**kwargs):\n",
        "    if \"diğeradi\" in kwargs:\n",
        "        print(kwargs[\"diğeradi\"])\n",
        "    else:\n",
        "        print(\"Diğer adı yok\")"
      ],
      "metadata": {
        "id": "l_hUwZgQeylI"
      },
      "execution_count": null,
      "outputs": []
    },
    {
      "cell_type": "code",
      "source": [
        "diğer_adi_yazdir(adı = \"Hacı\", diğeradi = \"Ahmet\", Soyadı = \"Yaşar\") "
      ],
      "metadata": {
        "colab": {
          "base_uri": "https://localhost:8080/"
        },
        "id": "V--IZFltkGwn",
        "outputId": "59c59384-bb38-4ff0-9f40-ff694bec40f9"
      },
      "execution_count": null,
      "outputs": [
        {
          "output_type": "stream",
          "name": "stdout",
          "text": [
            "Ahmet\n"
          ]
        }
      ]
    },
    {
      "cell_type": "code",
      "source": [
        "diğer_adi_yazdir(adı = \"Hacı\", Soyadı = \"Yaşar\") "
      ],
      "metadata": {
        "colab": {
          "base_uri": "https://localhost:8080/"
        },
        "id": "kQ1YXsW_kkNM",
        "outputId": "77aba47c-b3f7-4f67-edae-d493044f7bba"
      },
      "execution_count": null,
      "outputs": [
        {
          "output_type": "stream",
          "name": "stdout",
          "text": [
            "Diğer adı yok\n"
          ]
        }
      ]
    }
  ]
}