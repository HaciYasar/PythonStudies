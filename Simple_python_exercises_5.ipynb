{
  "nbformat": 4,
  "nbformat_minor": 0,
  "metadata": {
    "colab": {
      "name": "Simple_python_exercises_5.ipynb",
      "provenance": [],
      "collapsed_sections": [],
      "authorship_tag": "ABX9TyMpy6iQlRXsS0x5m7bzprTG",
      "include_colab_link": true
    },
    "kernelspec": {
      "name": "python3",
      "display_name": "Python 3"
    },
    "language_info": {
      "name": "python"
    }
  },
  "cells": [
    {
      "cell_type": "markdown",
      "metadata": {
        "id": "view-in-github",
        "colab_type": "text"
      },
      "source": [
        "<a href=\"https://colab.research.google.com/github/HaciYasar/PythonStudies/blob/main/Simple_python_exercises_5.ipynb\" target=\"_parent\"><img src=\"https://colab.research.google.com/assets/colab-badge.svg\" alt=\"Open In Colab\"/></a>"
      ]
    },
    {
      "cell_type": "code",
      "execution_count": null,
      "metadata": {
        "id": "WRszFWjeFbNN"
      },
      "outputs": [],
      "source": [
        "# f-string metodu"
      ]
    },
    {
      "cell_type": "code",
      "source": [
        "list(\"clarusway\")   # İterable verileri elemanlarına ayrırır ve liste haline getirir."
      ],
      "metadata": {
        "id": "BlMC_zgqIXsL",
        "colab": {
          "base_uri": "https://localhost:8080/"
        },
        "outputId": "a464db05-0660-4666-f2e3-0499c835c14d"
      },
      "execution_count": null,
      "outputs": [
        {
          "output_type": "execute_result",
          "data": {
            "text/plain": [
              "['c', 'l', 'a', 'r', 'u', 's', 'w', 'a', 'y']"
            ]
          },
          "metadata": {},
          "execution_count": 6
        }
      ]
    },
    {
      "cell_type": "code",
      "source": [
        "a =[1, 2, 3]"
      ],
      "metadata": {
        "id": "u5m4C7DqNw25"
      },
      "execution_count": null,
      "outputs": []
    },
    {
      "cell_type": "code",
      "source": [
        "list(a)"
      ],
      "metadata": {
        "id": "ITkt4Gm3Nw56",
        "colab": {
          "base_uri": "https://localhost:8080/"
        },
        "outputId": "6c215e98-c228-4feb-ef06-a91eb43deb99"
      },
      "execution_count": null,
      "outputs": [
        {
          "output_type": "execute_result",
          "data": {
            "text/plain": [
              "[1, 2, 3]"
            ]
          },
          "metadata": {},
          "execution_count": 8
        }
      ]
    },
    {
      "cell_type": "code",
      "source": [
        "list_1 = ['h', 'a', 'p', 'p', 'y']    # Örnek list elemanlara ayırır.\n",
        "word = 'happy'\n",
        "list_2 = list(word)\n",
        "print(list_1)\n",
        "print(list_2)"
      ],
      "metadata": {
        "id": "5MpfnENzNw8d",
        "colab": {
          "base_uri": "https://localhost:8080/"
        },
        "outputId": "53cd5666-da81-4b75-f5a9-f49cc4308213"
      },
      "execution_count": null,
      "outputs": [
        {
          "output_type": "stream",
          "name": "stdout",
          "text": [
            "['h', 'a', 'p', 'p', 'y']\n",
            "['h', 'a', 'p', 'p', 'y']\n"
          ]
        }
      ]
    },
    {
      "cell_type": "code",
      "source": [
        "country = [\"USA\", \"Bresil\", \"UK\", \"Germany\", \"Turkey\", \"New Zealand\"]   # Örnek\n",
        "print(country)"
      ],
      "metadata": {
        "colab": {
          "base_uri": "https://localhost:8080/"
        },
        "id": "kYZrjIp9bGE1",
        "outputId": "444bae3e-54fc-41f5-c24e-83dcda552d99"
      },
      "execution_count": null,
      "outputs": [
        {
          "output_type": "stream",
          "name": "stdout",
          "text": [
            "['USA', 'Bresil', 'UK', 'Germany', 'Turkey', 'New Zealand']\n"
          ]
        }
      ]
    },
    {
      "cell_type": "code",
      "source": [
        "mesela = [[1,2,4], False, \"ali\", 11, [\"veli\", [\"deli\"]]]"
      ],
      "metadata": {
        "id": "mwqbpPwdbWaU"
      },
      "execution_count": null,
      "outputs": []
    },
    {
      "cell_type": "code",
      "source": [
        "len(mesela)   # Listei çerisindeki başka liste elemanlarınıda alır"
      ],
      "metadata": {
        "colab": {
          "base_uri": "https://localhost:8080/"
        },
        "id": "ZzgrVEBgbWdD",
        "outputId": "e63cafb3-52f5-4410-8089-dcb22c374a64"
      },
      "execution_count": null,
      "outputs": [
        {
          "output_type": "execute_result",
          "data": {
            "text/plain": [
              "5"
            ]
          },
          "metadata": {},
          "execution_count": 14
        }
      ]
    },
    {
      "cell_type": "code",
      "source": [
        "len([[[\" \"]]])    # Boşlukta bir liste sayısıdır."
      ],
      "metadata": {
        "colab": {
          "base_uri": "https://localhost:8080/"
        },
        "id": "NUepHh6UbWgJ",
        "outputId": "1eb93915-3ad8-403f-d038-3911eb24aa98"
      },
      "execution_count": null,
      "outputs": [
        {
          "output_type": "execute_result",
          "data": {
            "text/plain": [
              "1"
            ]
          },
          "metadata": {},
          "execution_count": 15
        }
      ]
    },
    {
      "cell_type": "code",
      "source": [
        "len([[[\" \", 1,3]]])  # Parantezin içerisinde bir liste vardır."
      ],
      "metadata": {
        "colab": {
          "base_uri": "https://localhost:8080/"
        },
        "id": "L91o-4QHeLkW",
        "outputId": "d5f7ad9e-2819-439d-eb43-4ef2cf8b3cb0"
      },
      "execution_count": null,
      "outputs": [
        {
          "output_type": "execute_result",
          "data": {
            "text/plain": [
              "1"
            ]
          },
          "metadata": {},
          "execution_count": 16
        }
      ]
    },
    {
      "cell_type": "code",
      "source": [
        " boş = [] # Boş liste örnek\n",
        " boş"
      ],
      "metadata": {
        "colab": {
          "base_uri": "https://localhost:8080/"
        },
        "id": "9s6gw65meba_",
        "outputId": "37ab0c66-3665-4680-f649-0b2700862fb5"
      },
      "execution_count": null,
      "outputs": [
        {
          "output_type": "execute_result",
          "data": {
            "text/plain": [
              "[]"
            ]
          },
          "metadata": {},
          "execution_count": 18
        }
      ]
    },
    {
      "cell_type": "code",
      "source": [
        "\"ali deli veli\".replace(\"i\", \"+\")   # İ lerin yerine + koyar ve string üretiyor. \n",
        "# Ama değişim yapamıyor. Sadece işlem esnasında yapar."
      ],
      "metadata": {
        "colab": {
          "base_uri": "https://localhost:8080/",
          "height": 35
        },
        "id": "Vm0y5snWfopm",
        "outputId": "c36948a3-34db-45a4-8085-5fcaca3de492"
      },
      "execution_count": null,
      "outputs": [
        {
          "output_type": "execute_result",
          "data": {
            "application/vnd.google.colaboratory.intrinsic+json": {
              "type": "string"
            },
            "text/plain": [
              "'al+ del+ vel+'"
            ]
          },
          "metadata": {},
          "execution_count": 24
        }
      ]
    },
    {
      "cell_type": "code",
      "source": [
        "listem = []"
      ],
      "metadata": {
        "id": "iRmRTI28gCgS"
      },
      "execution_count": null,
      "outputs": []
    },
    {
      "cell_type": "code",
      "source": [
        "listem.append(11)   # Listeyi değiştirdik.\n",
        "listem"
      ],
      "metadata": {
        "colab": {
          "base_uri": "https://localhost:8080/"
        },
        "id": "WZ-IU0jKgCjG",
        "outputId": "8e96b7a7-766c-4e09-c211-c2bcb6d91afd"
      },
      "execution_count": null,
      "outputs": [
        {
          "output_type": "execute_result",
          "data": {
            "text/plain": [
              "[11]"
            ]
          },
          "metadata": {},
          "execution_count": 23
        }
      ]
    },
    {
      "cell_type": "code",
      "source": [
        "listem    # Örnek liste artık yeni olarak 11 olur."
      ],
      "metadata": {
        "colab": {
          "base_uri": "https://localhost:8080/"
        },
        "id": "X3FyJBEmgClp",
        "outputId": "5047e652-c561-491c-fe05-9de2474736de"
      },
      "execution_count": null,
      "outputs": [
        {
          "output_type": "execute_result",
          "data": {
            "text/plain": [
              "[11]"
            ]
          },
          "metadata": {},
          "execution_count": 25
        }
      ]
    },
    {
      "cell_type": "code",
      "source": [
        "listem.append(22)"
      ],
      "metadata": {
        "id": "COsxILNjg_Gv"
      },
      "execution_count": null,
      "outputs": []
    },
    {
      "cell_type": "code",
      "source": [
        "listem    # Listemize append ile sürekli ekleme yapabiliriz. append ensona ekler."
      ],
      "metadata": {
        "colab": {
          "base_uri": "https://localhost:8080/"
        },
        "id": "JP-t0Xcdg_Dz",
        "outputId": "8a48074f-4dc8-4343-ea63-4c6e3fa20844"
      },
      "execution_count": null,
      "outputs": [
        {
          "output_type": "execute_result",
          "data": {
            "text/plain": [
              "[11, 22]"
            ]
          },
          "metadata": {},
          "execution_count": 27
        }
      ]
    },
    {
      "cell_type": "code",
      "source": [
        "listem.append(33)   # append son eleman olarak atanır."
      ],
      "metadata": {
        "id": "EJZrPMJFg_BL"
      },
      "execution_count": null,
      "outputs": []
    },
    {
      "cell_type": "code",
      "source": [
        "listem"
      ],
      "metadata": {
        "colab": {
          "base_uri": "https://localhost:8080/"
        },
        "id": "l9VTr0JOhW6B",
        "outputId": "6fccc2bb-21be-4fc0-f53b-5222da163613"
      },
      "execution_count": null,
      "outputs": [
        {
          "output_type": "execute_result",
          "data": {
            "text/plain": [
              "[11, 22, 33]"
            ]
          },
          "metadata": {},
          "execution_count": 29
        }
      ]
    },
    {
      "cell_type": "code",
      "source": [
        "gardaşlar = [\"ali\", \"deli\"]"
      ],
      "metadata": {
        "id": "y22x5gm5hX9p"
      },
      "execution_count": null,
      "outputs": []
    },
    {
      "cell_type": "code",
      "source": [
        "gardaşlar.append(\"veli\")"
      ],
      "metadata": {
        "id": "esWTYqILhlfi"
      },
      "execution_count": null,
      "outputs": []
    },
    {
      "cell_type": "code",
      "source": [
        "gardaşlar"
      ],
      "metadata": {
        "colab": {
          "base_uri": "https://localhost:8080/"
        },
        "id": "Ptr3QddxhrX6",
        "outputId": "08eaab15-6a4b-4885-c4d7-dd647e337697"
      },
      "execution_count": null,
      "outputs": [
        {
          "output_type": "execute_result",
          "data": {
            "text/plain": [
              "['ali', 'deli', 'veli']"
            ]
          },
          "metadata": {},
          "execution_count": 33
        }
      ]
    },
    {
      "cell_type": "code",
      "source": [
        "gardaşlar.insert(1, \"hasan\")    # insert numarasını belirttiğimiz indexe veri sokar. "
      ],
      "metadata": {
        "id": "04c_OpyPhshB"
      },
      "execution_count": null,
      "outputs": []
    },
    {
      "cell_type": "code",
      "source": [
        "gardaşlar"
      ],
      "metadata": {
        "colab": {
          "base_uri": "https://localhost:8080/"
        },
        "id": "rWulH6gijNs-",
        "outputId": "7278aa7d-b6e2-407b-9454-e70b9971bf11"
      },
      "execution_count": null,
      "outputs": [
        {
          "output_type": "execute_result",
          "data": {
            "text/plain": [
              "['ali', 'hasan', 'deli', 'veli']"
            ]
          },
          "metadata": {},
          "execution_count": 35
        }
      ]
    },
    {
      "cell_type": "code",
      "source": [
        "mesela"
      ],
      "metadata": {
        "colab": {
          "base_uri": "https://localhost:8080/"
        },
        "id": "U3OXMM5dk95F",
        "outputId": "abb20f42-3931-4156-ea07-6f072b5af48f"
      },
      "execution_count": null,
      "outputs": [
        {
          "output_type": "execute_result",
          "data": {
            "text/plain": [
              "[False, 'ali', 11, ['veli', ['deli']]]"
            ]
          },
          "metadata": {},
          "execution_count": 38
        }
      ]
    },
    {
      "cell_type": "code",
      "source": [
        "mesela.remove([1,2,4])    # remove Yazdığımız veriyi siler."
      ],
      "metadata": {
        "id": "eAgMuZ_YjPFn"
      },
      "execution_count": null,
      "outputs": []
    },
    {
      "cell_type": "code",
      "source": [
        "mesela"
      ],
      "metadata": {
        "colab": {
          "base_uri": "https://localhost:8080/"
        },
        "id": "TpNVXMhmk7GF",
        "outputId": "bcb689aa-16b1-4306-ec0f-8c0c5841608d"
      },
      "execution_count": null,
      "outputs": [
        {
          "output_type": "execute_result",
          "data": {
            "text/plain": [
              "[False, 'ali', 11, ['veli', ['deli']]]"
            ]
          },
          "metadata": {},
          "execution_count": 37
        }
      ]
    },
    {
      "cell_type": "code",
      "source": [
        "list_1 = ['one', 'four', 'nine']  # sort listeyi alfebetik ve sayısal sıraya sokar."
      ],
      "metadata": {
        "id": "aDr-Pu85k8TE"
      },
      "execution_count": null,
      "outputs": []
    },
    {
      "cell_type": "code",
      "source": [
        "list_1.sort()\n",
        "list_1"
      ],
      "metadata": {
        "colab": {
          "base_uri": "https://localhost:8080/"
        },
        "id": "jThbC3kjnkvk",
        "outputId": "81ccdd55-56bd-42fb-87e2-8beed5298d22"
      },
      "execution_count": null,
      "outputs": [
        {
          "output_type": "execute_result",
          "data": {
            "text/plain": [
              "['four', 'nine', 'one']"
            ]
          },
          "metadata": {},
          "execution_count": 3
        }
      ]
    },
    {
      "cell_type": "code",
      "source": [
        "list_1.sort(reverse=True)   # reverse = True olursa büyükten küçüğe sıralar.\n",
        "list_1"
      ],
      "metadata": {
        "colab": {
          "base_uri": "https://localhost:8080/"
        },
        "id": "ROUqzr1qnpX0",
        "outputId": "ff799050-7e54-48f1-e25e-fcad37c29f55"
      },
      "execution_count": null,
      "outputs": [
        {
          "output_type": "execute_result",
          "data": {
            "text/plain": [
              "['one', 'nine', 'four']"
            ]
          },
          "metadata": {},
          "execution_count": 5
        }
      ]
    },
    {
      "cell_type": "code",
      "source": [
        "# aski kod öğrenmek için ord fonksiyonu kullanılır.\n",
        "ord(\"*\")"
      ],
      "metadata": {
        "colab": {
          "base_uri": "https://localhost:8080/"
        },
        "id": "xtFnGL2-oMMs",
        "outputId": "d9058c19-149c-42e8-91f7-2ac074c30f06"
      },
      "execution_count": null,
      "outputs": [
        {
          "output_type": "execute_result",
          "data": {
            "text/plain": [
              "42"
            ]
          },
          "metadata": {},
          "execution_count": 6
        }
      ]
    },
    {
      "cell_type": "code",
      "source": [
        "ord(\"@\")"
      ],
      "metadata": {
        "colab": {
          "base_uri": "https://localhost:8080/"
        },
        "id": "lXKEP-7Jo_FK",
        "outputId": "d2f0ebc7-4b0d-41c8-a1d0-ee8f9b62b175"
      },
      "execution_count": null,
      "outputs": [
        {
          "output_type": "execute_result",
          "data": {
            "text/plain": [
              "64"
            ]
          },
          "metadata": {},
          "execution_count": 7
        }
      ]
    },
    {
      "cell_type": "code",
      "source": [
        "ord(\"F\")"
      ],
      "metadata": {
        "colab": {
          "base_uri": "https://localhost:8080/"
        },
        "id": "I5mphlrKpB3S",
        "outputId": "02ce1e96-3dcf-4db0-d42f-275924630ed0"
      },
      "execution_count": null,
      "outputs": [
        {
          "output_type": "execute_result",
          "data": {
            "text/plain": [
              "70"
            ]
          },
          "metadata": {},
          "execution_count": 9
        }
      ]
    },
    {
      "cell_type": "code",
      "source": [
        "list_5 = [[1, 3], [44, -40], [-12, 1]]  "
      ],
      "metadata": {
        "id": "2lxDiDTYpQrC"
      },
      "execution_count": null,
      "outputs": []
    },
    {
      "cell_type": "code",
      "source": [
        "list_5.sort() # Birden fazla listeyi sıralarken listedeki en soldaki sayının b>k baz alır."
      ],
      "metadata": {
        "id": "8YsBmU_Cpcup"
      },
      "execution_count": null,
      "outputs": []
    },
    {
      "cell_type": "code",
      "source": [
        "list_5"
      ],
      "metadata": {
        "colab": {
          "base_uri": "https://localhost:8080/"
        },
        "id": "Jxww3w1fpcrk",
        "outputId": "797354ea-32bb-4f7b-9d3f-f2cf9b23ba2f"
      },
      "execution_count": null,
      "outputs": [
        {
          "output_type": "execute_result",
          "data": {
            "text/plain": [
              "[[-12, 1], [1, 3], [44, -40]]"
            ]
          },
          "metadata": {},
          "execution_count": 15
        }
      ]
    },
    {
      "cell_type": "code",
      "source": [
        "chr(70)  # ord ve chr birbirnin zıttı çalışır."
      ],
      "metadata": {
        "colab": {
          "base_uri": "https://localhost:8080/",
          "height": 35
        },
        "id": "ZaWGpvnep-io",
        "outputId": "e9f8e067-c7fb-473d-a05c-4cf0642caeed"
      },
      "execution_count": null,
      "outputs": [
        {
          "output_type": "execute_result",
          "data": {
            "application/vnd.google.colaboratory.intrinsic+json": {
              "type": "string"
            },
            "text/plain": [
              "'F'"
            ]
          },
          "metadata": {},
          "execution_count": 16
        }
      ]
    },
    {
      "cell_type": "code",
      "source": [
        ""
      ],
      "metadata": {
        "id": "69QUmSulqjIR"
      },
      "execution_count": null,
      "outputs": []
    }
  ]
}