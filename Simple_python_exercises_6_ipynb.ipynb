{
  "nbformat": 4,
  "nbformat_minor": 0,
  "metadata": {
    "colab": {
      "name": "Simple_python_exercises_6.ipynb.ipynb",
      "provenance": [],
      "authorship_tag": "ABX9TyPNLzzFD4h1KPEqc2n5Tahs",
      "include_colab_link": true
    },
    "kernelspec": {
      "name": "python3",
      "display_name": "Python 3"
    },
    "language_info": {
      "name": "python"
    }
  },
  "cells": [
    {
      "cell_type": "markdown",
      "metadata": {
        "id": "view-in-github",
        "colab_type": "text"
      },
      "source": [
        "<a href=\"https://colab.research.google.com/github/HaciYasar/PythonStudies/blob/main/Simple_python_exercises_6_ipynb.ipynb\" target=\"_parent\"><img src=\"https://colab.research.google.com/assets/colab-badge.svg\" alt=\"Open In Colab\"/></a>"
      ]
    },
    {
      "cell_type": "code",
      "execution_count": null,
      "metadata": {
        "id": "MT2KFzSiJHgS"
      },
      "outputs": [],
      "source": [
        "# Tuple kodlar iterable eleman alır. listeler tupleye, tuple listeye çevrilebilir."
      ]
    },
    {
      "cell_type": "code",
      "source": [
        "my_tuple=(1, 4, 3, 4, 5, 6, 7, 4)"
      ],
      "metadata": {
        "id": "NH_fhYEXKNna"
      },
      "execution_count": null,
      "outputs": []
    },
    {
      "cell_type": "code",
      "source": [
        "my_list = list(my_tuple)"
      ],
      "metadata": {
        "id": "AvC7-FG4KNk0"
      },
      "execution_count": null,
      "outputs": []
    },
    {
      "cell_type": "code",
      "source": [
        "print(type(my_list), my_list)"
      ],
      "metadata": {
        "colab": {
          "base_uri": "https://localhost:8080/"
        },
        "id": "7kJYbsB8KNhu",
        "outputId": "1c71a5d3-e7a2-41ae-e798-2e993c3313fe"
      },
      "execution_count": null,
      "outputs": [
        {
          "output_type": "stream",
          "name": "stdout",
          "text": [
            "<class 'list'> [1, 4, 3, 4, 5, 6, 7, 4]\n"
          ]
        }
      ]
    },
    {
      "cell_type": "code",
      "source": [
        "my_list = [1, 4, 3, 4, 5, 6, 7, 4]    #Tuple listeye çevrilebilir.\n",
        "my_tuple = tuple(my_list)\n",
        "print(type(my_tuple), my_tuple)"
      ],
      "metadata": {
        "colab": {
          "base_uri": "https://localhost:8080/"
        },
        "id": "IRlkrarjKxVJ",
        "outputId": "8e5c3d07-9ff2-44b8-c2fd-724c3382e3fd"
      },
      "execution_count": null,
      "outputs": [
        {
          "output_type": "stream",
          "name": "stdout",
          "text": [
            "<class 'tuple'> (1, 4, 3, 4, 5, 6, 7, 4)\n"
          ]
        }
      ]
    },
    {
      "cell_type": "code",
      "source": [
        "tuple(range(1, 11))  # range belirtilen sayı aralığını bulur"
      ],
      "metadata": {
        "colab": {
          "base_uri": "https://localhost:8080/"
        },
        "id": "t60kZRFxL5uB",
        "outputId": "a06fde3f-6ead-4342-91cb-dee278dabe12"
      },
      "execution_count": null,
      "outputs": [
        {
          "output_type": "execute_result",
          "data": {
            "text/plain": [
              "(1, 2, 3, 4, 5, 6, 7, 8, 9, 10)"
            ]
          },
          "metadata": {},
          "execution_count": 7
        }
      ]
    },
    {
      "cell_type": "code",
      "source": [
        "sayılar = tuple(range(1, 11))"
      ],
      "metadata": {
        "id": "_1OvaHPgf8WG"
      },
      "execution_count": null,
      "outputs": []
    },
    {
      "cell_type": "code",
      "source": [
        "sayılar"
      ],
      "metadata": {
        "colab": {
          "base_uri": "https://localhost:8080/"
        },
        "id": "gCnE3oQtgefV",
        "outputId": "3983a5a2-d9b8-4f16-9623-aef60bd11bae"
      },
      "execution_count": null,
      "outputs": [
        {
          "output_type": "execute_result",
          "data": {
            "text/plain": [
              "(1, 2, 3, 4, 5, 6, 7, 8, 9, 10)"
            ]
          },
          "metadata": {},
          "execution_count": 9
        }
      ]
    },
    {
      "cell_type": "code",
      "source": [
        "list_sayılar = list(sayılar)  # Listeye atama yapabiliriz."
      ],
      "metadata": {
        "id": "XVH7MlYugh5m"
      },
      "execution_count": null,
      "outputs": []
    },
    {
      "cell_type": "code",
      "source": [
        "list_sayılar"
      ],
      "metadata": {
        "colab": {
          "base_uri": "https://localhost:8080/"
        },
        "id": "Nd94j3qRgtf8",
        "outputId": "2f28c0fe-aaea-424c-98e6-c0b70d94b19e"
      },
      "execution_count": null,
      "outputs": [
        {
          "output_type": "execute_result",
          "data": {
            "text/plain": [
              "[1, 2, 3, 4, 5, 6, 7, 8, 9, 10]"
            ]
          },
          "metadata": {},
          "execution_count": 11
        }
      ]
    },
    {
      "cell_type": "code",
      "source": [
        "list_sayılar[2] = 33    # Listenin içerisine atama yapabiliriz.\n",
        "list_sayılar"
      ],
      "metadata": {
        "colab": {
          "base_uri": "https://localhost:8080/"
        },
        "id": "gxqOf2HEgywM",
        "outputId": "e1001dbc-689f-4f4b-9e98-78ace21e4a1c"
      },
      "execution_count": null,
      "outputs": [
        {
          "output_type": "execute_result",
          "data": {
            "text/plain": [
              "[1, 2, 33, 4, 5, 6, 7, 8, 9, 10]"
            ]
          },
          "metadata": {},
          "execution_count": 13
        }
      ]
    },
    {
      "cell_type": "code",
      "source": [
        "list_sayılar[-1] = \"ten\"  # string eleman atayabiliyoruz.\n",
        "list_sayılar      # Tuple içerisine atama yapamayız."
      ],
      "metadata": {
        "colab": {
          "base_uri": "https://localhost:8080/"
        },
        "id": "pnsWuHtchDG2",
        "outputId": "85042dca-5d28-462e-bf78-02365b2d5724"
      },
      "execution_count": null,
      "outputs": [
        {
          "output_type": "execute_result",
          "data": {
            "text/plain": [
              "[1, 2, 33, 4, 5, 6, 7, 8, 9, 'ten']"
            ]
          },
          "metadata": {},
          "execution_count": 16
        }
      ]
    },
    {
      "cell_type": "code",
      "source": [
        "## Dİctionary"
      ],
      "metadata": {
        "id": "lJQ8EmIehZZj"
      },
      "execution_count": null,
      "outputs": []
    },
    {
      "cell_type": "code",
      "source": [
        "first_dict = {1:\"one\", \"two\":2, False:[1, 2, 3], 1.5: (\"one\", \"two\"), (1,2):\"clarusway\"}\n",
        "first_dict"
      ],
      "metadata": {
        "colab": {
          "base_uri": "https://localhost:8080/"
        },
        "id": "QZWZYmoVkA3G",
        "outputId": "e4c9f589-2698-4195-9a35-6ef204d185a8"
      },
      "execution_count": null,
      "outputs": [
        {
          "output_type": "execute_result",
          "data": {
            "text/plain": [
              "{(1, 2): 'clarusway',\n",
              " 1: 'one',\n",
              " 1.5: ('one', 'two'),\n",
              " False: [1, 2, 3],\n",
              " 'two': 2}"
            ]
          },
          "metadata": {},
          "execution_count": 18
        }
      ]
    },
    {
      "cell_type": "code",
      "source": [
        ""
      ],
      "metadata": {
        "id": "Ak49ZRaskA01"
      },
      "execution_count": null,
      "outputs": []
    },
    {
      "cell_type": "code",
      "source": [
        ""
      ],
      "metadata": {
        "id": "FFfLwOIfkAyb"
      },
      "execution_count": null,
      "outputs": []
    }
  ]
}