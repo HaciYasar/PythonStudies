{
  "nbformat": 4,
  "nbformat_minor": 0,
  "metadata": {
    "colab": {
      "name": "Simple_python_exercises_15.ipynb",
      "provenance": [],
      "collapsed_sections": [],
      "authorship_tag": "ABX9TyMQdoAn5NDK0IMlkw32BnYf",
      "include_colab_link": true
    },
    "kernelspec": {
      "name": "python3",
      "display_name": "Python 3"
    },
    "language_info": {
      "name": "python"
    }
  },
  "cells": [
    {
      "cell_type": "markdown",
      "metadata": {
        "id": "view-in-github",
        "colab_type": "text"
      },
      "source": [
        "<a href=\"https://colab.research.google.com/github/HaciYasar/PythonStudies/blob/main/Simple_python_exercises_15.ipynb\" target=\"_parent\"><img src=\"https://colab.research.google.com/assets/colab-badge.svg\" alt=\"Open In Colab\"/></a>"
      ]
    },
    {
      "cell_type": "code",
      "execution_count": null,
      "metadata": {
        "id": "_kdJyodWRRAM"
      },
      "outputs": [],
      "source": [
        "x = [([1], [2,3], [4,5,6])]"
      ]
    },
    {
      "cell_type": "code",
      "source": [
        "a = []\n",
        "\n",
        "for i in x:\n",
        "  for j in i:\n",
        "    for z in j:\n",
        "      a.append(z)\n",
        "a"
      ],
      "metadata": {
        "colab": {
          "base_uri": "https://localhost:8080/"
        },
        "id": "5OzNojVlSiMN",
        "outputId": "ba3a10f6-7865-48e7-924e-0c66795725ee"
      },
      "execution_count": null,
      "outputs": [
        {
          "output_type": "execute_result",
          "data": {
            "text/plain": [
              "[1, 2, 3, 4, 5, 6]"
            ]
          },
          "metadata": {},
          "execution_count": 2
        }
      ]
    },
    {
      "cell_type": "code",
      "source": [
        "[i for i in range(5)]"
      ],
      "metadata": {
        "colab": {
          "base_uri": "https://localhost:8080/"
        },
        "id": "T1nvfudYTDRH",
        "outputId": "23cc27e7-c39e-4398-896b-e6faa2b119ac"
      },
      "execution_count": null,
      "outputs": [
        {
          "output_type": "execute_result",
          "data": {
            "text/plain": [
              "[0, 1, 2, 3, 4]"
            ]
          },
          "metadata": {},
          "execution_count": 3
        }
      ]
    },
    {
      "cell_type": "code",
      "source": [
        "xList = \"elma armut muz\".split()\n",
        "xList"
      ],
      "metadata": {
        "colab": {
          "base_uri": "https://localhost:8080/"
        },
        "id": "IO4Z51V4TcJv",
        "outputId": "21fd4c33-1e22-453c-8442-827892895849"
      },
      "execution_count": null,
      "outputs": [
        {
          "output_type": "execute_result",
          "data": {
            "text/plain": [
              "['elma', 'armut', 'muz']"
            ]
          },
          "metadata": {},
          "execution_count": 4
        }
      ]
    },
    {
      "cell_type": "code",
      "source": [
        "yList = \"selvi vahit ayşe\".split()\n",
        "yList"
      ],
      "metadata": {
        "colab": {
          "base_uri": "https://localhost:8080/"
        },
        "id": "Z5we2o5HTria",
        "outputId": "4710786d-fe26-4f4c-8838-a6f39bd9bf7a"
      },
      "execution_count": null,
      "outputs": [
        {
          "output_type": "execute_result",
          "data": {
            "text/plain": [
              "['selvi', 'vahit', 'ayşe']"
            ]
          },
          "metadata": {},
          "execution_count": 5
        }
      ]
    },
    {
      "cell_type": "code",
      "source": [
        "result = []\n",
        "\n",
        "for i in xList :\n",
        "  for j in yList :\n",
        "    result.append(i + j)\n",
        "\n",
        "result"
      ],
      "metadata": {
        "colab": {
          "base_uri": "https://localhost:8080/"
        },
        "id": "3W__lqqbT0k2",
        "outputId": "6a197486-a68c-42f9-df40-8179e5888725"
      },
      "execution_count": null,
      "outputs": [
        {
          "output_type": "execute_result",
          "data": {
            "text/plain": [
              "['elmaselvi',\n",
              " 'elmavahit',\n",
              " 'elmaayşe',\n",
              " 'armutselvi',\n",
              " 'armutvahit',\n",
              " 'armutayşe',\n",
              " 'muzselvi',\n",
              " 'muzvahit',\n",
              " 'muzayşe']"
            ]
          },
          "metadata": {},
          "execution_count": 6
        }
      ]
    },
    {
      "cell_type": "code",
      "source": [
        "result = []\n",
        "\n",
        "sayılar = [\"bir\", \"iki\", \"üç\",]\n",
        "\n",
        "for i in range(5) :\n",
        "  if i % 2 == 0 :\n",
        "    for j in sayılar :\n",
        "      result.append(str(i) + \" --> \" + j)\n",
        "result"
      ],
      "metadata": {
        "colab": {
          "base_uri": "https://localhost:8080/"
        },
        "id": "Pw2ZtUNnUzj9",
        "outputId": "5c409355-1b5b-4995-ea5f-1eb28e345400"
      },
      "execution_count": null,
      "outputs": [
        {
          "output_type": "execute_result",
          "data": {
            "text/plain": [
              "['0 --> bir',\n",
              " '0 --> iki',\n",
              " '0 --> üç',\n",
              " '2 --> bir',\n",
              " '2 --> iki',\n",
              " '2 --> üç',\n",
              " '4 --> bir',\n",
              " '4 --> iki',\n",
              " '4 --> üç']"
            ]
          },
          "metadata": {},
          "execution_count": 8
        }
      ]
    },
    {
      "cell_type": "code",
      "source": [
        "[str(i) + \" --> \" + j for i in range(5) for j in sayılar if i % 2 == 0]"
      ],
      "metadata": {
        "colab": {
          "base_uri": "https://localhost:8080/"
        },
        "id": "iHC3bQnrV32U",
        "outputId": "0a054d98-68cf-42b8-d4ac-e44560c7ec9e"
      },
      "execution_count": null,
      "outputs": [
        {
          "output_type": "execute_result",
          "data": {
            "text/plain": [
              "['0 --> bir',\n",
              " '0 --> iki',\n",
              " '0 --> üç',\n",
              " '2 --> bir',\n",
              " '2 --> iki',\n",
              " '2 --> üç',\n",
              " '4 --> bir',\n",
              " '4 --> iki',\n",
              " '4 --> üç']"
            ]
          },
          "metadata": {},
          "execution_count": 9
        }
      ]
    },
    {
      "cell_type": "code",
      "source": [
        ""
      ],
      "metadata": {
        "id": "Xrf4ef8QWWpJ"
      },
      "execution_count": null,
      "outputs": []
    }
  ]
}