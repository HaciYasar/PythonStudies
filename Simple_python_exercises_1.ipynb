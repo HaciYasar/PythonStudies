{
  "nbformat": 4,
  "nbformat_minor": 0,
  "metadata": {
    "colab": {
      "name": "Simple_python_exercises_1.ipynb",
      "provenance": [],
      "authorship_tag": "ABX9TyPVlKodGavh2/yjoX2wCYIC",
      "include_colab_link": true
    },
    "kernelspec": {
      "name": "python3",
      "display_name": "Python 3"
    },
    "language_info": {
      "name": "python"
    }
  },
  "cells": [
    {
      "cell_type": "markdown",
      "metadata": {
        "id": "view-in-github",
        "colab_type": "text"
      },
      "source": [
        "<a href=\"https://colab.research.google.com/github/HaciYasar/PythonStudies/blob/main/Simple_python_exercises_1.ipynb\" target=\"_parent\"><img src=\"https://colab.research.google.com/assets/colab-badge.svg\" alt=\"Open In Colab\"/></a>"
      ]
    },
    {
      "cell_type": "code",
      "source": [
        "# Simple python exercises"
      ],
      "metadata": {
        "id": "7nzUn4EkJoIC"
      },
      "execution_count": null,
      "outputs": []
    },
    {
      "cell_type": "code",
      "execution_count": null,
      "metadata": {
        "id": "t3LjmDw3JDNK"
      },
      "outputs": [],
      "source": [
        "print ('iyi bir insan olmak')"
      ]
    },
    {
      "cell_type": "code",
      "source": [
        "print (' clarusway hayatımı değiştirecek')"
      ],
      "metadata": {
        "id": "p29R0gMOJd8n"
      },
      "execution_count": null,
      "outputs": []
    },
    {
      "cell_type": "code",
      "source": [
        "print(517)"
      ],
      "metadata": {
        "id": "6cuMiDcLOq50"
      },
      "execution_count": null,
      "outputs": []
    },
    {
      "cell_type": "code",
      "source": [
        "print(\"we should have enough time for our family\")"
      ],
      "metadata": {
        "id": "9z5DEhngO0wR"
      },
      "execution_count": null,
      "outputs": []
    },
    {
      "cell_type": "code",
      "source": [
        "print('no quin')\n",
        "print('no gain')\n",
        "print(3.14)"
      ],
      "metadata": {
        "id": "0rFFqRrKPlyv"
      },
      "execution_count": null,
      "outputs": []
    },
    {
      "cell_type": "code",
      "source": [
        "print('first line')\n",
        "print()\n",
        "print('third line')"
      ],
      "metadata": {
        "id": "20tgbD4rQPtI"
      },
      "execution_count": null,
      "outputs": []
    },
    {
      "cell_type": "code",
      "source": [
        "print('utf8')  #adds a new element into a list"
      ],
      "metadata": {
        "id": "gxlTJss6WCsi"
      },
      "execution_count": null,
      "outputs": []
    },
    {
      "cell_type": "code",
      "source": [
        ""
      ],
      "metadata": {
        "id": "5Sn81Vo5LN64"
      },
      "execution_count": null,
      "outputs": []
    }
  ]
}