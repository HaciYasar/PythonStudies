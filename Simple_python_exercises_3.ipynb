{
  "nbformat": 4,
  "nbformat_minor": 0,
  "metadata": {
    "colab": {
      "name": "Simple_python_exercises_3.ipynb",
      "provenance": [],
      "authorship_tag": "ABX9TyPZ9Dk3io/ILxd0Sja+kJhD",
      "include_colab_link": true
    },
    "kernelspec": {
      "name": "python3",
      "display_name": "Python 3"
    },
    "language_info": {
      "name": "python"
    }
  },
  "cells": [
    {
      "cell_type": "markdown",
      "metadata": {
        "id": "view-in-github",
        "colab_type": "text"
      },
      "source": [
        "<a href=\"https://colab.research.google.com/github/HaciYasar/PythonStudies/blob/main/Simple_python_exercises_3.ipynb\" target=\"_parent\"><img src=\"https://colab.research.google.com/assets/colab-badge.svg\" alt=\"Open In Colab\"/></a>"
      ]
    },
    {
      "cell_type": "code",
      "execution_count": null,
      "metadata": {
        "id": "xftJV9meTRv9"
      },
      "outputs": [],
      "source": [
        "değişken = 10"
      ]
    },
    {
      "cell_type": "code",
      "source": [
        "değişken"
      ],
      "metadata": {
        "id": "aymeBLM4VMmU"
      },
      "execution_count": null,
      "outputs": []
    },
    {
      "cell_type": "code",
      "source": [
        "değişken = değişken + 1 # Değişkene sayı ekleme ve güncelleme yapmak için + işretinden sonra\n",
        "                          # istediğimiz sayı yazılır"
      ],
      "metadata": {
        "id": "bCbngn1dVQMO"
      },
      "execution_count": null,
      "outputs": []
    },
    {
      "cell_type": "code",
      "source": [
        "değişken    # Değişkenin yeni değeri 11 olur."
      ],
      "metadata": {
        "id": "oVmwWj3iVZiA"
      },
      "execution_count": null,
      "outputs": []
    },
    {
      "cell_type": "code",
      "source": [
        "değişken = değişken + 1"
      ],
      "metadata": {
        "id": "jWv0zu-MVbFc"
      },
      "execution_count": null,
      "outputs": []
    },
    {
      "cell_type": "code",
      "source": [
        "değişken"
      ],
      "metadata": {
        "id": "jH1UfFwBWSiW"
      },
      "execution_count": null,
      "outputs": []
    },
    {
      "cell_type": "code",
      "source": [
        "değişken2 = 5"
      ],
      "metadata": {
        "id": "FPrtY7WGWU6t"
      },
      "execution_count": null,
      "outputs": []
    },
    {
      "cell_type": "code",
      "source": [
        "değişken2 = değişken2 * 2  # Değişkeni çarpma işlemiylede güncelleyebiliriz.\n",
        "değişken2"
      ],
      "metadata": {
        "id": "ksYA14_mWfHq"
      },
      "execution_count": null,
      "outputs": []
    },
    {
      "cell_type": "code",
      "source": [
        "değişken2 = değişken2 * 2   # Değişkene yeni atayacağımız değerlerin işlem işaretleri değişebilir."
      ],
      "metadata": {
        "id": "j0s3InzqW15a"
      },
      "execution_count": null,
      "outputs": []
    },
    {
      "cell_type": "code",
      "source": [
        "değişken2"
      ],
      "metadata": {
        "id": "Sd1op3A5XFSI"
      },
      "execution_count": null,
      "outputs": []
    },
    {
      "cell_type": "code",
      "source": [
        "değişken += 1   # Değişkene arttırmak için kısa formül budur. Matematiksel işlemler değişebilir."
      ],
      "metadata": {
        "id": "XTSUGP_0XGnY"
      },
      "execution_count": null,
      "outputs": []
    },
    {
      "cell_type": "code",
      "source": [
        "değişken"
      ],
      "metadata": {
        "id": "Y_yNpYr3XWyM"
      },
      "execution_count": null,
      "outputs": []
    },
    {
      "cell_type": "code",
      "source": [
        "değişken2 *= 2    # Değişkenin işlemi değişebililir."
      ],
      "metadata": {
        "id": "qOShblKnXYwy"
      },
      "execution_count": null,
      "outputs": []
    },
    {
      "cell_type": "code",
      "source": [
        "değişken2"
      ],
      "metadata": {
        "id": "N9Z-zMrtX060"
      },
      "execution_count": null,
      "outputs": []
    },
    {
      "cell_type": "code",
      "source": [
        "a = 8   # Matematiksel işlemler değişkenlede yapılabilir\n",
        "b = 2"
      ],
      "metadata": {
        "id": "ZdA3S5rHX14Q"
      },
      "execution_count": 7,
      "outputs": []
    },
    {
      "cell_type": "code",
      "source": [
        "a + b   # Örnek"
      ],
      "metadata": {
        "colab": {
          "base_uri": "https://localhost:8080/"
        },
        "id": "5YegGGnrYFyf",
        "outputId": "e8e600af-de94-48db-aab9-92c30026f00c"
      },
      "execution_count": 13,
      "outputs": [
        {
          "output_type": "execute_result",
          "data": {
            "text/plain": [
              "20"
            ]
          },
          "metadata": {},
          "execution_count": 13
        }
      ]
    },
    {
      "cell_type": "code",
      "source": [
        "a += b\n",
        "a"
      ],
      "metadata": {
        "colab": {
          "base_uri": "https://localhost:8080/"
        },
        "id": "Fmb89_hGYIxH",
        "outputId": "6efce011-8914-45b4-9c82-8862cc6bb977"
      },
      "execution_count": 11,
      "outputs": [
        {
          "output_type": "execute_result",
          "data": {
            "text/plain": [
              "16"
            ]
          },
          "metadata": {},
          "execution_count": 11
        }
      ]
    },
    {
      "cell_type": "code",
      "source": [
        "a *= b    # örnek \n",
        "a"
      ],
      "metadata": {
        "colab": {
          "base_uri": "https://localhost:8080/"
        },
        "id": "vfNDrSsTYfBv",
        "outputId": "6e1e71fb-ecc3-4be3-9d5e-395de6a114b9"
      },
      "execution_count": 10,
      "outputs": [
        {
          "output_type": "execute_result",
          "data": {
            "text/plain": [
              "12"
            ]
          },
          "metadata": {},
          "execution_count": 10
        }
      ]
    },
    {
      "cell_type": "code",
      "source": [
        "a = 3\n",
        "b = 4\n",
        "c = (a ** 2 + b ** 2) ** 0.5"
      ],
      "metadata": {
        "id": "dNf9hVjXYiEx"
      },
      "execution_count": 9,
      "outputs": []
    },
    {
      "cell_type": "code",
      "source": [
        "c   # Öncelik üstlü işlemler. Parantez ve bölme. 5.0 floot'dır"
      ],
      "metadata": {
        "colab": {
          "base_uri": "https://localhost:8080/"
        },
        "id": "W6eYKYV9aMEc",
        "outputId": "b044dc2e-1d80-47d0-e563-ac2c0276027a"
      },
      "execution_count": 16,
      "outputs": [
        {
          "output_type": "execute_result",
          "data": {
            "text/plain": [
              "5.0"
            ]
          },
          "metadata": {},
          "execution_count": 16
        }
      ]
    },
    {
      "cell_type": "code",
      "source": [
        "a = 3\n",
        "b = 4\n",
        "c = (a ** 2 + b ** 2) ** 0.5"
      ],
      "metadata": {
        "id": "TcDXtxZEaNQ0"
      },
      "execution_count": 14,
      "outputs": []
    },
    {
      "cell_type": "code",
      "source": [
        "c"
      ],
      "metadata": {
        "colab": {
          "base_uri": "https://localhost:8080/"
        },
        "id": "9_aVgNSHaj3d",
        "outputId": "1099c82d-469e-4d1e-8e15-56bcd8fd7801"
      },
      "execution_count": 15,
      "outputs": [
        {
          "output_type": "execute_result",
          "data": {
            "text/plain": [
              "5.0"
            ]
          },
          "metadata": {},
          "execution_count": 15
        }
      ]
    },
    {
      "cell_type": "code",
      "source": [
        "?print  # Soru işareti ile printin içerisindeki operasyonları görebiliriz."
      ],
      "metadata": {
        "id": "nu8Xg95-a7pc"
      },
      "execution_count": 17,
      "outputs": []
    },
    {
      "cell_type": "code",
      "source": [
        "print(\"ali\")\n",
        "print(\"deli\", \"veli\")\n",
        "print(\"selvi\", \"baharat\", 44)\n",
        "print(c, False, \"ahmet\", 3.14)    # sep veleu arasına boşluk koyar. sep değiştirirsek başka bir şey koyar."
      ],
      "metadata": {
        "colab": {
          "base_uri": "https://localhost:8080/"
        },
        "id": "OjmEyRnGbXRv",
        "outputId": "5e5fe785-ad07-44f4-f2ad-673b3deaf5ff"
      },
      "execution_count": 18,
      "outputs": [
        {
          "output_type": "stream",
          "name": "stdout",
          "text": [
            "ali\n",
            "deli veli\n",
            "selvi baharat 44\n",
            "5.0 False ahmet 3.14\n"
          ]
        }
      ]
    },
    {
      "cell_type": "code",
      "source": [
        "print(c, False, \"ahmet\", 3.14, sep = \"-\")   # Örenek sep değiştirerek farklı sembol kullanabiliriz"
      ],
      "metadata": {
        "colab": {
          "base_uri": "https://localhost:8080/"
        },
        "id": "S601uWpYbXKX",
        "outputId": "bdb58300-1c1a-41eb-953f-622511187e4a"
      },
      "execution_count": 19,
      "outputs": [
        {
          "output_type": "stream",
          "name": "stdout",
          "text": [
            "5.0-False-ahmet-3.14\n"
          ]
        }
      ]
    },
    {
      "cell_type": "code",
      "source": [
        "print(\"selvi\", \"baharat\", 44, sep = \"**\")   # Örnek sep değiştirme virgüller arası boşluk kaldırır"
      ],
      "metadata": {
        "colab": {
          "base_uri": "https://localhost:8080/"
        },
        "id": "NRmgCit6hIJ3",
        "outputId": "219e7faa-3b56-4156-ef13-49aa40b71d45"
      },
      "execution_count": null,
      "outputs": [
        {
          "output_type": "stream",
          "name": "stdout",
          "text": [
            "selvi**baharat**44\n"
          ]
        }
      ]
    },
    {
      "cell_type": "code",
      "source": [
        "print(\"bugün hava çok\\ngüzel.\")"
      ],
      "metadata": {
        "colab": {
          "base_uri": "https://localhost:8080/"
        },
        "id": "UAb3xzuPhgPB",
        "outputId": "a905cea3-eafb-40e8-9199-313305ae8822"
      },
      "execution_count": null,
      "outputs": [
        {
          "output_type": "stream",
          "name": "stdout",
          "text": [
            "bugün hava çok\n",
            "güzel.\n"
          ]
        }
      ]
    },
    {
      "cell_type": "code",
      "source": [
        "print(\"ali\", end = \" \")\n",
        "print(\"veli\", \"ayşe\")     # end separatörü satır sonunda yanyana yazdırır."
      ],
      "metadata": {
        "colab": {
          "base_uri": "https://localhost:8080/"
        },
        "id": "vjUBzIFeh3BR",
        "outputId": "ffa07ccb-9cf4-4cc4-ea80-c094139591c5"
      },
      "execution_count": null,
      "outputs": [
        {
          "output_type": "stream",
          "name": "stdout",
          "text": [
            "ali veli ayşe\n"
          ]
        }
      ]
    },
    {
      "cell_type": "code",
      "source": [
        "print(\"ali\")\n",
        "print(\"veli\", \"ayşe\")   # Örnek end komutu yazılmadığı için yeni satır devreye girer."
      ],
      "metadata": {
        "colab": {
          "base_uri": "https://localhost:8080/"
        },
        "id": "YzStLUX4iOmx",
        "outputId": "1a58fcbf-2b5d-4659-bb34-2733d787701d"
      },
      "execution_count": null,
      "outputs": [
        {
          "output_type": "stream",
          "name": "stdout",
          "text": [
            "ali\n",
            "veli ayşe\n"
          ]
        }
      ]
    },
    {
      "cell_type": "code",
      "source": [
        "# \\ karakteri özel karakterin önüne gelirse özelliğini almasına ve sıradan karakter \n",
        "# yapmasına neden olur. Bazı harflerin önüne gelirse özellik katar."
      ],
      "metadata": {
        "id": "aV_P5iPVic1o"
      },
      "execution_count": null,
      "outputs": []
    },
    {
      "cell_type": "code",
      "source": [
        "print('Ahmet\\'in ceketi')   # Örnek. özel karakterden kaçış. String tırnağını normalize eder."
      ],
      "metadata": {
        "colab": {
          "base_uri": "https://localhost:8080/"
        },
        "id": "FYG8cPy5k0oc",
        "outputId": "a8232e21-3215-49ae-c0ad-22f47ff6b00d"
      },
      "execution_count": null,
      "outputs": [
        {
          "output_type": "stream",
          "name": "stdout",
          "text": [
            "Ahmet'in ceketi\n"
          ]
        }
      ]
    },
    {
      "cell_type": "code",
      "source": [
        "print('Ahmet\\in ceketi')    # Özel karakter olmadığı için normal string kabul etti."
      ],
      "metadata": {
        "colab": {
          "base_uri": "https://localhost:8080/"
        },
        "id": "KM1gnxKBk9pY",
        "outputId": "f4a47263-4976-4dec-a0e8-52ce9d18930f"
      },
      "execution_count": null,
      "outputs": [
        {
          "output_type": "stream",
          "name": "stdout",
          "text": [
            "Ahmet\\in ceketi\n"
          ]
        }
      ]
    },
    {
      "cell_type": "code",
      "source": [
        "print('Ayla\\nın çantası')   # n harfi new live demek. özel karaktere girer."
      ],
      "metadata": {
        "colab": {
          "base_uri": "https://localhost:8080/"
        },
        "id": "AGc1TWTklUCa",
        "outputId": "a1a5edec-338b-4ebf-f649-8840da39b2ff"
      },
      "execution_count": null,
      "outputs": [
        {
          "output_type": "stream",
          "name": "stdout",
          "text": [
            "Ayla\n",
            "ın çantası\n"
          ]
        }
      ]
    },
    {
      "cell_type": "code",
      "source": [
        "print('Ayla\\\\nın çantası')  # \\ slaçın özelliğini başka bir ters slaçla alınır."
      ],
      "metadata": {
        "colab": {
          "base_uri": "https://localhost:8080/"
        },
        "id": "bzlQi2kglfpy",
        "outputId": "f2815b5e-734d-46fa-8fbb-75b6f853b93b"
      },
      "execution_count": null,
      "outputs": [
        {
          "output_type": "stream",
          "name": "stdout",
          "text": [
            "Ayla\\nın çantası\n"
          ]
        }
      ]
    },
    {
      "cell_type": "code",
      "source": [
        "okul = \"clarus\"   # Değişkenlerin içerisinde arayabiliriz."
      ],
      "metadata": {
        "id": "p1wgOoS2l0Fo"
      },
      "execution_count": null,
      "outputs": []
    },
    {
      "cell_type": "code",
      "source": [
        "okul[5]   # Stringlerin içerisindeki index numrasına köşeli parantez ile ulaşabiliriz."
      ],
      "metadata": {
        "colab": {
          "base_uri": "https://localhost:8080/",
          "height": 35
        },
        "id": "6WHbSOQroIIm",
        "outputId": "802a7d71-fe8d-47b0-d5bc-620bc5a729cf"
      },
      "execution_count": null,
      "outputs": [
        {
          "output_type": "execute_result",
          "data": {
            "application/vnd.google.colaboratory.intrinsic+json": {
              "type": "string"
            },
            "text/plain": [
              "'s'"
            ]
          },
          "metadata": {},
          "execution_count": 43
        }
      ]
    },
    {
      "cell_type": "code",
      "source": [
        "okul[2:4]   #  2 indexten başla 1 eksiğine kadar git."
      ],
      "metadata": {
        "colab": {
          "base_uri": "https://localhost:8080/",
          "height": 35
        },
        "id": "Vl7pNoCxoKAB",
        "outputId": "948cac11-2f9c-4a86-bfb7-58897b544852"
      },
      "execution_count": null,
      "outputs": [
        {
          "output_type": "execute_result",
          "data": {
            "application/vnd.google.colaboratory.intrinsic+json": {
              "type": "string"
            },
            "text/plain": [
              "'ar'"
            ]
          },
          "metadata": {},
          "execution_count": 45
        }
      ]
    },
    {
      "cell_type": "code",
      "source": [
        "okul[2:] # 2 den başla sonuna kadar git demek."
      ],
      "metadata": {
        "colab": {
          "base_uri": "https://localhost:8080/",
          "height": 35
        },
        "id": "us_gZfeuoONP",
        "outputId": "6bb0fcf4-3f65-4ae8-ea44-9009fcda6001"
      },
      "execution_count": null,
      "outputs": [
        {
          "output_type": "execute_result",
          "data": {
            "application/vnd.google.colaboratory.intrinsic+json": {
              "type": "string"
            },
            "text/plain": [
              "'arus'"
            ]
          },
          "metadata": {},
          "execution_count": 46
        }
      ]
    },
    {
      "cell_type": "code",
      "source": [
        "okul[:3]  # en baştan başla 3 e kadar git ama 3 ü alma demek."
      ],
      "metadata": {
        "colab": {
          "base_uri": "https://localhost:8080/",
          "height": 35
        },
        "id": "fmttP6C_pIl3",
        "outputId": "7030e448-6f7a-4e38-8753-53c38e17a5b4"
      },
      "execution_count": null,
      "outputs": [
        {
          "output_type": "execute_result",
          "data": {
            "application/vnd.google.colaboratory.intrinsic+json": {
              "type": "string"
            },
            "text/plain": [
              "'cla'"
            ]
          },
          "metadata": {},
          "execution_count": 48
        }
      ]
    },
    {
      "cell_type": "code",
      "source": [
        "okul[:]   # En baştan başla sonuna kadar git demek"
      ],
      "metadata": {
        "colab": {
          "base_uri": "https://localhost:8080/",
          "height": 35
        },
        "id": "yEz1Q45HpQn6",
        "outputId": "562e1e7f-4a10-4798-ea2e-e577713b6b7e"
      },
      "execution_count": null,
      "outputs": [
        {
          "output_type": "execute_result",
          "data": {
            "application/vnd.google.colaboratory.intrinsic+json": {
              "type": "string"
            },
            "text/plain": [
              "'clarus'"
            ]
          },
          "metadata": {},
          "execution_count": 50
        }
      ]
    },
    {
      "cell_type": "code",
      "source": [
        ""
      ],
      "metadata": {
        "id": "wQegq16ophgy"
      },
      "execution_count": null,
      "outputs": []
    }
  ]
}