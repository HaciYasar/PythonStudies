{
  "nbformat": 4,
  "nbformat_minor": 0,
  "metadata": {
    "colab": {
      "name": "Simple_python_exercises_12.ipynb",
      "provenance": [],
      "collapsed_sections": [],
      "authorship_tag": "ABX9TyPfPpnfSzCPcszmGg354T4P",
      "include_colab_link": true
    },
    "kernelspec": {
      "name": "python3",
      "display_name": "Python 3"
    },
    "language_info": {
      "name": "python"
    }
  },
  "cells": [
    {
      "cell_type": "markdown",
      "metadata": {
        "id": "view-in-github",
        "colab_type": "text"
      },
      "source": [
        "<a href=\"https://colab.research.google.com/github/HaciYasar/PythonStudies/blob/main/Simple_python_exercises_12.ipynb\" target=\"_parent\"><img src=\"https://colab.research.google.com/assets/colab-badge.svg\" alt=\"Open In Colab\"/></a>"
      ]
    },
    {
      "cell_type": "code",
      "execution_count": null,
      "metadata": {
        "id": "_MaR1lSP5ijG"
      },
      "outputs": [],
      "source": [
        "# if else koşul komutları: ifin elsi aynı hizzada olur. Else false veya falsy ise else çalışır."
      ]
    },
    {
      "cell_type": "code",
      "source": [
        "num = int(input(\"Enter a number :\"))\n",
        "if num % 2 == 0 :\n",
        "    print(\"{} is even\".format(num))\n",
        "else :\n",
        "    print(\"{} is odd\".format(num))"
      ],
      "metadata": {
        "colab": {
          "base_uri": "https://localhost:8080/"
        },
        "id": "7PLSz0ds65Sn",
        "outputId": "18542952-8352-48e6-e0e3-497b0cf257de"
      },
      "execution_count": null,
      "outputs": [
        {
          "output_type": "stream",
          "name": "stdout",
          "text": [
            "Enter a number :-11\n",
            "-11 is odd\n"
          ]
        }
      ]
    },
    {
      "cell_type": "code",
      "source": [
        "sayı = int(input(\"Bir sayı girin :\"))\n",
        "if sayı > 0 :\n",
        "    print(\"Bu sayı pozitiftir.\")\n",
        "else :\n",
        "    print(\"Bu sayı negatiftir.\")"
      ],
      "metadata": {
        "colab": {
          "base_uri": "https://localhost:8080/"
        },
        "id": "kgrvSk6V8sSj",
        "outputId": "fa90e45d-dc3c-43fa-c013-d9fd0dabe6af"
      },
      "execution_count": null,
      "outputs": [
        {
          "output_type": "stream",
          "name": "stdout",
          "text": [
            "Bir sayı girin :-12\n",
            "Bu sayı negatiftir.\n"
          ]
        }
      ]
    },
    {
      "cell_type": "code",
      "source": [
        "num1 = float(input(\"Enter first number :\"))\n",
        "num2 = float(input(\"Enter second number :\"))\n",
        "\n",
        "if num1 > num2 :\n",
        "    larger = num1\n",
        "\n",
        "else :\n",
        "    larger = num2\n",
        "print(\"The larger number is \", larger)"
      ],
      "metadata": {
        "colab": {
          "base_uri": "https://localhost:8080/"
        },
        "id": "aAhaa7Rz_0WK",
        "outputId": "c55bfc98-6c80-4c33-fc91-0acb9daef759"
      },
      "execution_count": null,
      "outputs": [
        {
          "output_type": "stream",
          "name": "stdout",
          "text": [
            "Enter first number :12.2\n",
            "Enter second number :-15.5\n",
            "The larger number is  12.2\n"
          ]
        }
      ]
    },
    {
      "cell_type": "code",
      "source": [
        "bool_value = True\n",
        "\n",
        "if bool_value :\n",
        "    print(\"Yes\")\n",
        "else :\n",
        "    print(\"No\")"
      ],
      "metadata": {
        "colab": {
          "base_uri": "https://localhost:8080/"
        },
        "id": "Pvtq7SamAsIy",
        "outputId": "db0010a7-bbd7-4ead-fd4b-7172274dfa49"
      },
      "execution_count": null,
      "outputs": [
        {
          "output_type": "stream",
          "name": "stdout",
          "text": [
            "Yes\n"
          ]
        }
      ]
    },
    {
      "cell_type": "code",
      "source": [
        "num1 = int(input(\"Enter first number :\"))\n",
        "num2 = int(input(\"Enter second number :\"))\n",
        "num3 = int(input(\"Enter the third number :\"))\n",
        "\n",
        "if (num1 >= num2) and (num1 >= num3) :\n",
        "    largest = num1\n",
        "elif (num2 >= num1) and (num2 >= num3) :\n",
        "    largest = num2\n",
        "else :\n",
        "    largest = num3\n",
        "print(\"The largest number is \", largest)"
      ],
      "metadata": {
        "colab": {
          "base_uri": "https://localhost:8080/"
        },
        "id": "GsX42hdsBzUU",
        "outputId": "194d9250-0349-4038-e2d5-34a4c2023395"
      },
      "execution_count": null,
      "outputs": [
        {
          "output_type": "stream",
          "name": "stdout",
          "text": [
            "Enter first number :12\n",
            "Enter second number :13\n",
            "Enter the third number :15\n",
            "The largest number is  15\n"
          ]
        }
      ]
    },
    {
      "cell_type": "code",
      "source": [
        "num = float(input(\"Enter anumber : \"))\n",
        "\n",
        "if num > 0 :\n",
        "  print(\"Pozitive number.\")\n",
        "elif num == 0 :\n",
        "  print(\"Zero.\")\n",
        "else :\n",
        "  print(\"Negatif number.\")"
      ],
      "metadata": {
        "colab": {
          "base_uri": "https://localhost:8080/"
        },
        "id": "Fez1333cBzQ4",
        "outputId": "633ea807-dd8a-4123-a708-4e71f0ea51a8"
      },
      "execution_count": null,
      "outputs": [
        {
          "output_type": "stream",
          "name": "stdout",
          "text": [
            "Enter anumber : -12\n",
            "Negatif number.\n"
          ]
        }
      ]
    },
    {
      "cell_type": "code",
      "source": [
        "# İç içe geçmiş koşullar\n",
        "\n",
        "score = int(input('Enter your score :'))\n",
        "\n",
        "if score >=90:\n",
        "\tif score >=95:\n",
        "\t\tScore_letter='A+'\n",
        "\telse:\n",
        "\t\tScore_letter='A'\n",
        "elif score >=80:\n",
        "\tif score >=85:\n",
        "\t\tScore_letter = 'B+'\n",
        "\telse:\n",
        "\t\tScore_letter = 'B'\n",
        "else:\n",
        "\tScore_letter = 'below B'\n",
        "print('Your degree: %s' % Score_letter)"
      ],
      "metadata": {
        "colab": {
          "base_uri": "https://localhost:8080/"
        },
        "id": "tqF3b9O4BzL1",
        "outputId": "5986cdd2-1490-4ac3-e58b-126ef084dd8e"
      },
      "execution_count": null,
      "outputs": [
        {
          "output_type": "stream",
          "name": "stdout",
          "text": [
            "Enter your score :65\n",
            "Your degree: below B\n"
          ]
        }
      ]
    },
    {
      "cell_type": "code",
      "source": [
        "left =set(\"qwertasdfgzxcvb\")\n",
        "left"
      ],
      "metadata": {
        "colab": {
          "base_uri": "https://localhost:8080/"
        },
        "id": "xrQ7qD48O02A",
        "outputId": "37a7bbd0-810b-4da1-8456-71281dd5f2db"
      },
      "execution_count": null,
      "outputs": [
        {
          "output_type": "execute_result",
          "data": {
            "text/plain": [
              "{'a', 'b', 'c', 'd', 'e', 'f', 'g', 'q', 'r', 's', 't', 'v', 'w', 'x', 'z'}"
            ]
          },
          "metadata": {},
          "execution_count": 48
        }
      ]
    },
    {
      "cell_type": "code",
      "source": [
        "right =set(\"yuıophjklnm\")\n",
        "right"
      ],
      "metadata": {
        "colab": {
          "base_uri": "https://localhost:8080/"
        },
        "id": "wocW1fngO9Ug",
        "outputId": "8b352b17-975b-4006-e6be-26a50b0a1d43"
      },
      "execution_count": null,
      "outputs": [
        {
          "output_type": "execute_result",
          "data": {
            "text/plain": [
              "{'h', 'j', 'k', 'l', 'm', 'n', 'o', 'p', 'u', 'y', 'ı'}"
            ]
          },
          "metadata": {},
          "execution_count": 49
        }
      ]
    },
    {
      "cell_type": "code",
      "source": [
        "word =\"clarusway\"\n",
        "word"
      ],
      "metadata": {
        "colab": {
          "base_uri": "https://localhost:8080/",
          "height": 35
        },
        "id": "5WTehEkFO9R6",
        "outputId": "a3ea614b-cde3-4aff-b80c-b514e0245bcd"
      },
      "execution_count": null,
      "outputs": [
        {
          "output_type": "execute_result",
          "data": {
            "application/vnd.google.colaboratory.intrinsic+json": {
              "type": "string"
            },
            "text/plain": [
              "'clarusway'"
            ]
          },
          "metadata": {},
          "execution_count": 50
        }
      ]
    },
    {
      "cell_type": "code",
      "source": [
        "word = set(word)\n",
        "word"
      ],
      "metadata": {
        "colab": {
          "base_uri": "https://localhost:8080/"
        },
        "id": "kwUhmfkLRkPT",
        "outputId": "f039968f-d750-4e72-a191-5a2131a6e831"
      },
      "execution_count": null,
      "outputs": [
        {
          "output_type": "execute_result",
          "data": {
            "text/plain": [
              "{'a', 'c', 'l', 'r', 's', 'u', 'w', 'y'}"
            ]
          },
          "metadata": {},
          "execution_count": 51
        }
      ]
    },
    {
      "cell_type": "code",
      "source": [
        "leftcheck = bool(word.intersection(left))\n",
        "rightchech = bool(word.intersection(right))"
      ],
      "metadata": {
        "id": "WJIWLOeSRovB"
      },
      "execution_count": null,
      "outputs": []
    },
    {
      "cell_type": "code",
      "source": [
        "leftcheck"
      ],
      "metadata": {
        "colab": {
          "base_uri": "https://localhost:8080/"
        },
        "id": "pEgM9tdpVNRZ",
        "outputId": "df521a0d-4ea3-4883-d310-3bc51296db35"
      },
      "execution_count": null,
      "outputs": [
        {
          "output_type": "execute_result",
          "data": {
            "text/plain": [
              "True"
            ]
          },
          "metadata": {},
          "execution_count": 53
        }
      ]
    },
    {
      "cell_type": "code",
      "source": [
        "rightchech"
      ],
      "metadata": {
        "colab": {
          "base_uri": "https://localhost:8080/"
        },
        "id": "AN8JXIqpVM7_",
        "outputId": "2a20573b-8b6e-4968-f80e-eed820174a0b"
      },
      "execution_count": null,
      "outputs": [
        {
          "output_type": "execute_result",
          "data": {
            "text/plain": [
              "True"
            ]
          },
          "metadata": {},
          "execution_count": 54
        }
      ]
    },
    {
      "cell_type": "code",
      "source": [
        ""
      ],
      "metadata": {
        "id": "Z5S5YauagJcX"
      },
      "execution_count": null,
      "outputs": []
    }
  ]
}