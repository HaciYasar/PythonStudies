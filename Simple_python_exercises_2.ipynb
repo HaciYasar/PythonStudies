{
  "nbformat": 4,
  "nbformat_minor": 0,
  "metadata": {
    "colab": {
      "name": "Simple_python_exercises_2.ipynb",
      "provenance": [],
      "authorship_tag": "ABX9TyOep/etQ+FMVXzkIzgM7mEV",
      "include_colab_link": true
    },
    "kernelspec": {
      "name": "python3",
      "display_name": "Python 3"
    },
    "language_info": {
      "name": "python"
    }
  },
  "cells": [
    {
      "cell_type": "markdown",
      "metadata": {
        "id": "view-in-github",
        "colab_type": "text"
      },
      "source": [
        "<a href=\"https://colab.research.google.com/github/HaciYasar/PythonStudies/blob/main/Simple_python_exercises_2.ipynb\" target=\"_parent\"><img src=\"https://colab.research.google.com/assets/colab-badge.svg\" alt=\"Open In Colab\"/></a>"
      ]
    },
    {
      "cell_type": "code",
      "source": [
        "print(\"Hello World\")"
      ],
      "metadata": {
        "colab": {
          "base_uri": "https://localhost:8080/"
        },
        "id": "qVn1plTE3OTs",
        "outputId": "7eb4598c-48c7-4979-aecf-1a4711799175"
      },
      "execution_count": null,
      "outputs": [
        {
          "output_type": "stream",
          "name": "stdout",
          "text": [
            "Hello World\n"
          ]
        }
      ]
    },
    {
      "cell_type": "code",
      "source": [
        "print(\"Çift tırnakla başladım çift ile bitirdim\")"
      ],
      "metadata": {
        "id": "QHiWvexK5HTq"
      },
      "execution_count": null,
      "outputs": []
    },
    {
      "cell_type": "code",
      "source": [
        "print(\"Benim içimde sayıda var 123\")"
      ],
      "metadata": {
        "id": "89OyAC0p5Rs5"
      },
      "execution_count": null,
      "outputs": []
    },
    {
      "cell_type": "code",
      "source": [
        "print(\"4+^+&/?\")"
      ],
      "metadata": {
        "id": "HxQwzIx55eNy"
      },
      "execution_count": null,
      "outputs": []
    },
    {
      "cell_type": "code",
      "source": [
        "print ('''hello world''')"
      ],
      "metadata": {
        "id": "1FMi8qJB6A1h"
      },
      "execution_count": null,
      "outputs": []
    },
    {
      "cell_type": "code",
      "source": [
        "print(41)"
      ],
      "metadata": {
        "colab": {
          "base_uri": "https://localhost:8080/"
        },
        "id": "Tz3DD-cn6QeQ",
        "outputId": "160d8f4e-2337-43ae-dd11-bf9cbb8c55e7"
      },
      "execution_count": null,
      "outputs": [
        {
          "output_type": "stream",
          "name": "stdout",
          "text": [
            "41\n"
          ]
        }
      ]
    },
    {
      "cell_type": "code",
      "source": [
        "print(''''We should have enough time for our family\"''')"
      ],
      "metadata": {
        "id": "e3qx4nB57OiO"
      },
      "execution_count": null,
      "outputs": []
    },
    {
      "cell_type": "code",
      "source": [
        "print(\"Ali\")\n",
        "print(\"\")\n",
        "print(\"Veli\")"
      ],
      "metadata": {
        "id": "K2Mh6_oP8HK0"
      },
      "execution_count": null,
      "outputs": []
    },
    {
      "cell_type": "code",
      "source": [
        "print('\"\"')"
      ],
      "metadata": {
        "id": "JV8BgA94-EoZ"
      },
      "execution_count": null,
      "outputs": []
    },
    {
      "cell_type": "code",
      "source": [
        "print(\"Üst satır \\\n",
        "ve buradan devam ediyorum\")"
      ],
      "metadata": {
        "colab": {
          "base_uri": "https://localhost:8080/"
        },
        "id": "aCzxcQUG-df9",
        "outputId": "3efbbab2-fdb6-495e-e998-5bcc19d6f383"
      },
      "execution_count": null,
      "outputs": [
        {
          "output_type": "stream",
          "name": "stdout",
          "text": [
            "Üst satır ve buradan devam ediyorum\n"
          ]
        }
      ]
    },
    {
      "cell_type": "code",
      "source": [
        "3 + 5  # 3 ile 5'in toplamına ilişkin kod satırıdır"
      ],
      "metadata": {
        "colab": {
          "base_uri": "https://localhost:8080/"
        },
        "id": "D6FblPuZJrB8",
        "outputId": "87dec99c-ce58-4658-c8fc-9ff565ad1730"
      },
      "execution_count": null,
      "outputs": [
        {
          "output_type": "execute_result",
          "data": {
            "text/plain": [
              "8"
            ]
          },
          "metadata": {},
          "execution_count": 18
        }
      ]
    },
    {
      "cell_type": "code",
      "source": [
        "a = \"kedi\"\n",
        "b = \"kuş\"\n",
        "c = \"kaplumbağa\"\n",
        "print(a, b, c)"
      ],
      "metadata": {
        "colab": {
          "base_uri": "https://localhost:8080/"
        },
        "id": "OZlgmHeEKM2L",
        "outputId": "47262b41-9e13-4fcf-f1ff-affcc2946b71"
      },
      "execution_count": 2,
      "outputs": [
        {
          "output_type": "stream",
          "name": "stdout",
          "text": [
            "kedi kuş kaplumbağa\n"
          ]
        }
      ]
    },
    {
      "cell_type": "code",
      "source": [
        "a = \"Mercedes,\"\n",
        "b = \"önceki araba B.M.W.\"\n",
        "c = \"şimdiki araba Audi\"\n",
        "print(a, b, c)"
      ],
      "metadata": {
        "id": "qLeCR7WdPRtd",
        "colab": {
          "base_uri": "https://localhost:8080/"
        },
        "outputId": "d9506731-7cfe-40a4-de92-bd814bacb625"
      },
      "execution_count": 3,
      "outputs": [
        {
          "output_type": "stream",
          "name": "stdout",
          "text": [
            "Mercedes, önceki araba B.M.W. şimdiki araba Audi\n"
          ]
        }
      ]
    },
    {
      "cell_type": "code",
      "source": [
        "print(a, b)"
      ],
      "metadata": {
        "id": "M9_gS2EUM1s6",
        "colab": {
          "base_uri": "https://localhost:8080/"
        },
        "outputId": "aded620d-0c62-41bf-8176-784c96a74b17"
      },
      "execution_count": 4,
      "outputs": [
        {
          "output_type": "stream",
          "name": "stdout",
          "text": [
            "Mercedes, önceki araba B.M.W.\n"
          ]
        }
      ]
    },
    {
      "cell_type": "code",
      "source": [
        "print(a, c)"
      ],
      "metadata": {
        "id": "AJJj1g9fNIn1",
        "colab": {
          "base_uri": "https://localhost:8080/"
        },
        "outputId": "a71f0170-620b-461c-ad1d-b78327c864cd"
      },
      "execution_count": 5,
      "outputs": [
        {
          "output_type": "stream",
          "name": "stdout",
          "text": [
            "Mercedes, şimdiki araba Audi\n"
          ]
        }
      ]
    },
    {
      "cell_type": "code",
      "source": [
        ""
      ],
      "metadata": {
        "id": "IU8JSpP15_XT"
      },
      "execution_count": null,
      "outputs": []
    }
  ]
}