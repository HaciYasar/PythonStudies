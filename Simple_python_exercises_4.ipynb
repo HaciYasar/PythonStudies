{
  "nbformat": 4,
  "nbformat_minor": 0,
  "metadata": {
    "colab": {
      "name": "Simple_python_exercises_4.ipynb",
      "provenance": [],
      "collapsed_sections": [],
      "authorship_tag": "ABX9TyPqTH39FDkErBQgAzYKK3kB",
      "include_colab_link": true
    },
    "kernelspec": {
      "name": "python3",
      "display_name": "Python 3"
    },
    "language_info": {
      "name": "python"
    }
  },
  "cells": [
    {
      "cell_type": "markdown",
      "metadata": {
        "id": "view-in-github",
        "colab_type": "text"
      },
      "source": [
        "<a href=\"https://colab.research.google.com/github/HaciYasar/PythonStudies/blob/main/Simple_python_exercises_4.ipynb\" target=\"_parent\"><img src=\"https://colab.research.google.com/assets/colab-badge.svg\" alt=\"Open In Colab\"/></a>"
      ]
    },
    {
      "cell_type": "code",
      "execution_count": null,
      "metadata": {
        "id": "Wpi3xntdDAbB"
      },
      "outputs": [],
      "source": [
        "# Kadayıf\n",
        "# İç\n",
        "    # ceviz\n",
        "    # fıstık\n",
        "    # fındık\n",
        "# Şerbet\n",
        "    # su\n",
        "    # Şeker\n",
        "# Yumurta        "
      ]
    },
    {
      "cell_type": "code",
      "source": [
        "kadayıf = True  # Olmazsa olmaz\n",
        "\n",
        "# İç --> Olmazsa olmaz\n",
        "fındık = True   # fark etmez\n",
        "fıstık = True   # fark etmez\n",
        "ceviz = True    # fark etmez\n",
        "\n",
        "# şerbet --> olmazsa olmaz\n",
        "su = True\n",
        "şeker = True      # olmazsa olmazlardan birini false yaparsak sonuç false çıkar\n",
        "\n",
        "\n",
        "yumurta = True    # olmazsa olmazlardan birini false yaparsak sonuç false çıkar"
      ],
      "metadata": {
        "id": "x4_oE4i9EH4v"
      },
      "execution_count": null,
      "outputs": []
    },
    {
      "cell_type": "code",
      "source": [
        "yedim = kadayıf and (su and şeker) and (fındık or fıstık or ceviz) and yumurta\n",
        "yedim"
      ],
      "metadata": {
        "colab": {
          "base_uri": "https://localhost:8080/"
        },
        "id": "syyrle60F1RG",
        "outputId": "6e869cf2-6a66-4ba9-bdb7-9e3a65a524d6"
      },
      "execution_count": null,
      "outputs": [
        {
          "output_type": "execute_result",
          "data": {
            "text/plain": [
              "True"
            ]
          },
          "metadata": {},
          "execution_count": 5
        }
      ]
    },
    {
      "cell_type": "code",
      "source": [
        "# içecek --> olmazsa olmaz\n",
        "\n",
        "çay = True\n",
        "meşrubat = True\n",
        "limonata = True"
      ],
      "metadata": {
        "id": "U5qOYlQJI5dS"
      },
      "execution_count": null,
      "outputs": []
    },
    {
      "cell_type": "code",
      "source": [
        "yedim = kadayıf and (su and şeker) and (fındık or fıstık or ceviz) and yumurta \\\n",
        "and (çay or meşrubat or limonata)\n",
        "yedim"
      ],
      "metadata": {
        "colab": {
          "base_uri": "https://localhost:8080/"
        },
        "id": "oXAbTqYDJuJ4",
        "outputId": "ce3f3a69-53df-4e14-8cc2-ed3dbcaa5828"
      },
      "execution_count": null,
      "outputs": [
        {
          "output_type": "execute_result",
          "data": {
            "text/plain": [
              "True"
            ]
          },
          "metadata": {},
          "execution_count": 9
        }
      ]
    },
    {
      "cell_type": "code",
      "source": [
        "para = 1000     # Bir haftalık sabit %7 kazanç hesaplama\n",
        "para = para + para * 0.07 # Pazartesi\n",
        "para"
      ],
      "metadata": {
        "colab": {
          "base_uri": "https://localhost:8080/"
        },
        "id": "N6i7QviLKIN9",
        "outputId": "230802c4-a32c-4410-aa6c-39c4161fc077"
      },
      "execution_count": null,
      "outputs": [
        {
          "output_type": "execute_result",
          "data": {
            "text/plain": [
              "1070.0"
            ]
          },
          "metadata": {},
          "execution_count": 10
        }
      ]
    },
    {
      "cell_type": "code",
      "source": [
        "para = para + para * 0.07 # Salı    # Paranın üzerine 1070.0'ın %7 alınır.\n",
        "para"
      ],
      "metadata": {
        "colab": {
          "base_uri": "https://localhost:8080/"
        },
        "id": "jEnnE5nhK2Sj",
        "outputId": "4921f86f-ad26-4727-e736-d341b93d918f"
      },
      "execution_count": null,
      "outputs": [
        {
          "output_type": "execute_result",
          "data": {
            "text/plain": [
              "1144.9"
            ]
          },
          "metadata": {},
          "execution_count": 11
        }
      ]
    },
    {
      "cell_type": "code",
      "source": [
        "para = para + para * 0.07 # çarşamba    \n",
        "para"
      ],
      "metadata": {
        "colab": {
          "base_uri": "https://localhost:8080/"
        },
        "id": "XwYtcEMMLgKl",
        "outputId": "2df3493e-573e-4548-baf4-e363e7b4d5ed"
      },
      "execution_count": null,
      "outputs": [
        {
          "output_type": "execute_result",
          "data": {
            "text/plain": [
              "1225.0430000000001"
            ]
          },
          "metadata": {},
          "execution_count": 12
        }
      ]
    },
    {
      "cell_type": "code",
      "source": [
        "para = para + para * 0.07 # perşembe   \n",
        "para"
      ],
      "metadata": {
        "colab": {
          "base_uri": "https://localhost:8080/"
        },
        "id": "S7X5Ecm5Lvd5",
        "outputId": "66b6de4d-1594-4325-e2fc-24195257a99e"
      },
      "execution_count": null,
      "outputs": [
        {
          "output_type": "execute_result",
          "data": {
            "text/plain": [
              "1310.79601"
            ]
          },
          "metadata": {},
          "execution_count": 13
        }
      ]
    },
    {
      "cell_type": "code",
      "source": [
        "para = para + para * 0.07 # cuma\n",
        "para"
      ],
      "metadata": {
        "colab": {
          "base_uri": "https://localhost:8080/"
        },
        "id": "RJrtLLdCL6cJ",
        "outputId": "1c85fc2b-5302-43af-c109-d21a29258fa8"
      },
      "execution_count": null,
      "outputs": [
        {
          "output_type": "execute_result",
          "data": {
            "text/plain": [
              "1402.5517307"
            ]
          },
          "metadata": {},
          "execution_count": 14
        }
      ]
    },
    {
      "cell_type": "code",
      "source": [
        "para = para + para * 0.07 # cumartesi\n",
        "para"
      ],
      "metadata": {
        "colab": {
          "base_uri": "https://localhost:8080/"
        },
        "id": "xq46Lvq-L91B",
        "outputId": "67701546-58b8-4301-fe73-8dfc2f6ad17b"
      },
      "execution_count": null,
      "outputs": [
        {
          "output_type": "execute_result",
          "data": {
            "text/plain": [
              "1500.730351849"
            ]
          },
          "metadata": {},
          "execution_count": 15
        }
      ]
    },
    {
      "cell_type": "code",
      "source": [
        "para = para + para * 0.07 # pazar\n",
        "para"
      ],
      "metadata": {
        "colab": {
          "base_uri": "https://localhost:8080/"
        },
        "id": "mv3btjR_MBpx",
        "outputId": "701da5cf-3954-469b-c342-eb882744ee16"
      },
      "execution_count": null,
      "outputs": [
        {
          "output_type": "execute_result",
          "data": {
            "text/plain": [
              "1605.78147647843"
            ]
          },
          "metadata": {},
          "execution_count": 16
        }
      ]
    },
    {
      "cell_type": "code",
      "source": [
        "para = 1000"
      ],
      "metadata": {
        "id": "UPiDA94KMFbJ"
      },
      "execution_count": null,
      "outputs": []
    },
    {
      "cell_type": "code",
      "source": [
        "para = para * 1.07    # Bir hafatalık kazanç için kısa yol \n",
        "para = para * 1.07\n",
        "para = para * 1.07 \n",
        "para = para * 1.07 \n",
        "para = para * 1.07 \n",
        "para = para * 1.07 \n",
        "para = para * 1.07\n",
        "para"
      ],
      "metadata": {
        "colab": {
          "base_uri": "https://localhost:8080/"
        },
        "id": "w2zbothEM6O-",
        "outputId": "1e04d724-9565-4a47-f276-4f55a5c5a9da"
      },
      "execution_count": null,
      "outputs": [
        {
          "output_type": "execute_result",
          "data": {
            "text/plain": [
              "1605.7814764784307"
            ]
          },
          "metadata": {},
          "execution_count": 29
        }
      ]
    },
    {
      "cell_type": "code",
      "source": [
        "# Len fonksiyonu integer döndürür. elaman sayısını belirtir."
      ],
      "metadata": {
        "id": "va1WUSEVOe-d"
      },
      "execution_count": null,
      "outputs": []
    },
    {
      "cell_type": "code",
      "source": [
        "sonuc = str((5 + 6) ** 2 ) + \"121\"    # + İşlemi string ifadeleri birleştirir.\n",
        "sonuc"
      ],
      "metadata": {
        "colab": {
          "base_uri": "https://localhost:8080/",
          "height": 35
        },
        "id": "a7GvP03JWpbc",
        "outputId": "50a251b2-3b44-400c-d965-3ee92dc66e37"
      },
      "execution_count": null,
      "outputs": [
        {
          "output_type": "execute_result",
          "data": {
            "application/vnd.google.colaboratory.intrinsic+json": {
              "type": "string"
            },
            "text/plain": [
              "'121121'"
            ]
          },
          "metadata": {},
          "execution_count": 37
        }
      ]
    },
    {
      "cell_type": "code",
      "source": [
        "\"ali\" + \"veli\" + \"hasan\""
      ],
      "metadata": {
        "colab": {
          "base_uri": "https://localhost:8080/",
          "height": 35
        },
        "id": "2h5Yv8P5W_k7",
        "outputId": "56b06426-d623-47f4-c924-4dff7e648e93"
      },
      "execution_count": 2,
      "outputs": [
        {
          "output_type": "execute_result",
          "data": {
            "application/vnd.google.colaboratory.intrinsic+json": {
              "type": "string"
            },
            "text/plain": [
              "'alivelihasan'"
            ]
          },
          "metadata": {},
          "execution_count": 2
        }
      ]
    },
    {
      "cell_type": "code",
      "source": [
        "\"100\" + \"500\" + \"001\"   # + İşlemi string ifadeleri birleştirir"
      ],
      "metadata": {
        "colab": {
          "base_uri": "https://localhost:8080/",
          "height": 35
        },
        "id": "DtzlNYRZXghj",
        "outputId": "130ad56a-ec4c-4f74-a452-8f97e90e367a"
      },
      "execution_count": null,
      "outputs": [
        {
          "output_type": "execute_result",
          "data": {
            "application/vnd.google.colaboratory.intrinsic+json": {
              "type": "string"
            },
            "text/plain": [
              "'100500001'"
            ]
          },
          "metadata": {},
          "execution_count": 39
        }
      ]
    },
    {
      "cell_type": "code",
      "source": [
        "sonuc = (sonuc + sonuc) * 2   # Parentez içindeki ifadeyi yapıştırır ve iki kere yanya yazdırır\n",
        "sonuc"
      ],
      "metadata": {
        "colab": {
          "base_uri": "https://localhost:8080/",
          "height": 35
        },
        "id": "Cg2mleBzXtUT",
        "outputId": "3add7930-918c-4c14-f2f5-522ecc8805dc"
      },
      "execution_count": null,
      "outputs": [
        {
          "output_type": "execute_result",
          "data": {
            "application/vnd.google.colaboratory.intrinsic+json": {
              "type": "string"
            },
            "text/plain": [
              "'121121121121121121121121'"
            ]
          },
          "metadata": {},
          "execution_count": 40
        }
      ]
    },
    {
      "cell_type": "code",
      "source": [
        "print(* \"clarusway\")    # elemanlarını ayırır."
      ],
      "metadata": {
        "colab": {
          "base_uri": "https://localhost:8080/"
        },
        "id": "d3a-0wgTYwgB",
        "outputId": "0d8504eb-8288-475d-eed7-978844f597ac"
      },
      "execution_count": null,
      "outputs": [
        {
          "output_type": "stream",
          "name": "stdout",
          "text": [
            "c l a r u s w a y\n"
          ]
        }
      ]
    },
    {
      "cell_type": "code",
      "source": [
        "a = \"ali\"\n",
        "b = \"veli\""
      ],
      "metadata": {
        "id": "cM-TMysBZIhp"
      },
      "execution_count": 3,
      "outputs": []
    },
    {
      "cell_type": "code",
      "source": [
        "a = a + b   # a += b kısa formülü bu şekilde oluyor.\n",
        "a"
      ],
      "metadata": {
        "colab": {
          "base_uri": "https://localhost:8080/",
          "height": 35
        },
        "id": "zsnU3-uiZzhw",
        "outputId": "55bc2a8a-3ada-4b0d-c70f-48c40b053378"
      },
      "execution_count": 4,
      "outputs": [
        {
          "output_type": "execute_result",
          "data": {
            "application/vnd.google.colaboratory.intrinsic+json": {
              "type": "string"
            },
            "text/plain": [
              "'aliveli'"
            ]
          },
          "metadata": {},
          "execution_count": 4
        }
      ]
    },
    {
      "cell_type": "code",
      "source": [
        "\"metodlar\".format()"
      ],
      "metadata": {
        "id": "NMlNkuzLaEsB"
      },
      "execution_count": null,
      "outputs": []
    },
    {
      "cell_type": "code",
      "source": [
        "deneme = \"clarusway\""
      ],
      "metadata": {
        "id": "FL5w7HqXaw64"
      },
      "execution_count": null,
      "outputs": []
    },
    {
      "cell_type": "code",
      "source": [
        "deneme.format()"
      ],
      "metadata": {
        "id": "Ex78QAFYbPA8"
      },
      "execution_count": null,
      "outputs": []
    },
    {
      "cell_type": "code",
      "source": [
        "saat = \"05:00\"\n",
        "yer = \"okul\"\n",
        "miktar = 2"
      ],
      "metadata": {
        "id": "AcDbEVKFbamJ"
      },
      "execution_count": null,
      "outputs": []
    },
    {
      "cell_type": "code",
      "source": [
        "\"Ben sabah {} de uyandım. {}' a gittim. Gelirken de {} kg elma aldım.\".format(saat, yer, miktar)"
      ],
      "metadata": {
        "colab": {
          "base_uri": "https://localhost:8080/",
          "height": 35
        },
        "id": "PnBbH7vHbajS",
        "outputId": "6c06faa1-99d3-4ca8-8289-d7a70a05ab47"
      },
      "execution_count": null,
      "outputs": [
        {
          "output_type": "execute_result",
          "data": {
            "application/vnd.google.colaboratory.intrinsic+json": {
              "type": "string"
            },
            "text/plain": [
              "\"Ben sabah 05:00 de uyandım. okul' a gittim. Gelirken de 2 kg elma aldım.\""
            ]
          },
          "metadata": {},
          "execution_count": 54
        }
      ]
    },
    {
      "cell_type": "code",
      "source": [
        "\"Ben sabah {1} de uyandım. {0}' a gittim. Gelirken de {2} kg elma aldım.\".format(saat, yer, miktar)"
      ],
      "metadata": {
        "colab": {
          "base_uri": "https://localhost:8080/",
          "height": 35
        },
        "id": "5PBxiJo3cOLR",
        "outputId": "9b9b9de5-bd33-482c-e046-78eee6688ba9"
      },
      "execution_count": null,
      "outputs": [
        {
          "output_type": "execute_result",
          "data": {
            "application/vnd.google.colaboratory.intrinsic+json": {
              "type": "string"
            },
            "text/plain": [
              "\"Ben sabah okul de uyandım. 05:00' a gittim. Gelirken de 2 kg elma aldım.\""
            ]
          },
          "metadata": {},
          "execution_count": 55
        }
      ]
    },
    {
      "cell_type": "code",
      "source": [
        "\"Ben sabah {} de uyandım. {}' a gittim. Gelirken de {} kg elma aldım.\".format(saat, yer, miktar)"
      ],
      "metadata": {
        "id": "qMG-X7CoccSS"
      },
      "execution_count": null,
      "outputs": []
    }
  ]
}