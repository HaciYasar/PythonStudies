{
  "nbformat": 4,
  "nbformat_minor": 0,
  "metadata": {
    "colab": {
      "name": "Simple_python_exercises_9.ipynb",
      "provenance": [],
      "collapsed_sections": [],
      "authorship_tag": "ABX9TyOSevuU1542f9iGlwVYUtCK",
      "include_colab_link": true
    },
    "kernelspec": {
      "name": "python3",
      "display_name": "Python 3"
    },
    "language_info": {
      "name": "python"
    }
  },
  "cells": [
    {
      "cell_type": "markdown",
      "metadata": {
        "id": "view-in-github",
        "colab_type": "text"
      },
      "source": [
        "<a href=\"https://colab.research.google.com/github/HaciYasar/PythonStudies/blob/main/Simple_python_exercises_9.ipynb\" target=\"_parent\"><img src=\"https://colab.research.google.com/assets/colab-badge.svg\" alt=\"Open In Colab\"/></a>"
      ]
    },
    {
      "cell_type": "code",
      "execution_count": 1,
      "metadata": {
        "id": "ozhpKqOZL1xn"
      },
      "outputs": [],
      "source": [
        "Ülke = [ 'ABD', 'Brezilya', 'İngiltere', 'Almanya', 'Türkiye', 'Yeni Zelanda' ]"
      ]
    },
    {
      "cell_type": "code",
      "source": [
        "print(Ülke)"
      ],
      "metadata": {
        "colab": {
          "base_uri": "https://localhost:8080/"
        },
        "id": "ZluE3nHIMZ9r",
        "outputId": "d8eb7c99-4ff7-4cf3-96e7-69412efa8548"
      },
      "execution_count": null,
      "outputs": [
        {
          "output_type": "stream",
          "name": "stdout",
          "text": [
            "['ABD', 'Brezilya', 'İngiltere', 'Almanya', 'Türkiye', 'Yeni Zelanda']\n"
          ]
        }
      ]
    },
    {
      "cell_type": "code",
      "source": [
        "warning ='You must quit smoking!'"
      ],
      "metadata": {
        "id": "dYDPFj6gNCUh"
      },
      "execution_count": null,
      "outputs": []
    },
    {
      "cell_type": "code",
      "source": [
        "print(len(list(warning)))"
      ],
      "metadata": {
        "colab": {
          "base_uri": "https://localhost:8080/"
        },
        "id": "2xf7JaU3Ncxo",
        "outputId": "a74ec57f-e67f-4cd5-f89d-7bcd564772a0"
      },
      "execution_count": null,
      "outputs": [
        {
          "output_type": "stream",
          "name": "stdout",
          "text": [
            "22\n"
          ]
        }
      ]
    },
    {
      "cell_type": "code",
      "source": [
        "boş_list_1 = [ ]"
      ],
      "metadata": {
        "id": "t3ch6e2SNiDd"
      },
      "execution_count": null,
      "outputs": []
    },
    {
      "cell_type": "code",
      "source": [
        "boş_list_1.append('114')    #  Listelere sayı veya veri eklemek için append yazılarak eklenir.\n",
        "boş_list_1.append('plastic-free sea')   # Örnek "
      ],
      "metadata": {
        "id": "zqnqKZxlN-Yf"
      },
      "execution_count": null,
      "outputs": []
    },
    {
      "cell_type": "code",
      "source": [
        "print(boş_list_1)"
      ],
      "metadata": {
        "colab": {
          "base_uri": "https://localhost:8080/"
        },
        "id": "4lxi3HBhOkbg",
        "outputId": "23bc16ea-155a-41ec-b882-8566630314a5"
      },
      "execution_count": null,
      "outputs": [
        {
          "output_type": "stream",
          "name": "stdout",
          "text": [
            "['114', 'plastic-free sea']\n"
          ]
        }
      ]
    },
    {
      "cell_type": "code",
      "source": [
        "city = ['New york', 'London', 'İstanbul', 'Seoul', 'Sydney']"
      ],
      "metadata": {
        "id": "HGzVD9y9Or99"
      },
      "execution_count": null,
      "outputs": []
    },
    {
      "cell_type": "code",
      "source": [
        "city.append('Addis Ababa')"
      ],
      "metadata": {
        "id": "7HT_pqRSPPi-"
      },
      "execution_count": null,
      "outputs": []
    },
    {
      "cell_type": "code",
      "source": [
        "print(city)"
      ],
      "metadata": {
        "colab": {
          "base_uri": "https://localhost:8080/"
        },
        "id": "_rFJi-tQPfCc",
        "outputId": "a9488d92-aafa-4478-cabf-5b8c27d19f63"
      },
      "execution_count": null,
      "outputs": [
        {
          "output_type": "stream",
          "name": "stdout",
          "text": [
            "['New york', 'London', 'İstanbul', 'Seoul', 'Sydney', 'Addis Ababa']\n"
          ]
        }
      ]
    },
    {
      "cell_type": "code",
      "source": [
        "city.insert(2, 'Stockholm')"
      ],
      "metadata": {
        "id": "mONhULgjQNb7"
      },
      "execution_count": null,
      "outputs": []
    },
    {
      "cell_type": "code",
      "source": [
        "print(city)"
      ],
      "metadata": {
        "colab": {
          "base_uri": "https://localhost:8080/"
        },
        "id": "GVRzwyh2Qi8i",
        "outputId": "f89aedfa-78fe-4164-e5c7-127982a362de"
      },
      "execution_count": null,
      "outputs": [
        {
          "output_type": "stream",
          "name": "stdout",
          "text": [
            "['New york', 'London', 'Stockholm', 'Stocholm', 'İstanbul', 'Seoul', 'Sydney', 'Addis Ababa']\n"
          ]
        }
      ]
    },
    {
      "cell_type": "code",
      "source": [
        "city.remove('London')"
      ],
      "metadata": {
        "id": "j2FRtCITQvCK"
      },
      "execution_count": null,
      "outputs": []
    },
    {
      "cell_type": "code",
      "source": [
        "print(city)"
      ],
      "metadata": {
        "colab": {
          "base_uri": "https://localhost:8080/"
        },
        "id": "yWqqvlOkQp4p",
        "outputId": "082b53c9-7ffc-4e1e-b971-be892e66ba58"
      },
      "execution_count": null,
      "outputs": [
        {
          "output_type": "stream",
          "name": "stdout",
          "text": [
            "['New york', 'Stockholm', 'Stocholm', 'İstanbul', 'Seoul', 'Sydney', 'Addis Ababa']\n"
          ]
        }
      ]
    },
    {
      "cell_type": "code",
      "source": [
        "city.sort()"
      ],
      "metadata": {
        "id": "LrOfPtqdRNyB"
      },
      "execution_count": null,
      "outputs": []
    },
    {
      "cell_type": "code",
      "source": [
        "print(city)"
      ],
      "metadata": {
        "colab": {
          "base_uri": "https://localhost:8080/"
        },
        "id": "PZtRMHT5RgO4",
        "outputId": "1d79eafe-73d1-4b5e-89ab-35ed65496eaf"
      },
      "execution_count": null,
      "outputs": [
        {
          "output_type": "stream",
          "name": "stdout",
          "text": [
            "['Addis Ababa', 'New york', 'Seoul', 'Stocholm', 'Stockholm', 'Sydney', 'İstanbul']\n"
          ]
        }
      ]
    },
    {
      "cell_type": "code",
      "source": [
        "print(len(city))"
      ],
      "metadata": {
        "colab": {
          "base_uri": "https://localhost:8080/"
        },
        "id": "kr_J4p63RiSQ",
        "outputId": "e979285f-8fb2-4182-9e4c-7615f676d01b"
      },
      "execution_count": null,
      "outputs": [
        {
          "output_type": "stream",
          "name": "stdout",
          "text": [
            "7\n"
          ]
        }
      ]
    },
    {
      "cell_type": "code",
      "source": [
        "city[1] = 'Melbourne'"
      ],
      "metadata": {
        "id": "JLCBOhXcRy5X"
      },
      "execution_count": null,
      "outputs": []
    },
    {
      "cell_type": "code",
      "source": [
        "print(city)"
      ],
      "metadata": {
        "colab": {
          "base_uri": "https://localhost:8080/"
        },
        "id": "7jYQZ4VpSSgl",
        "outputId": "cdea86bb-b525-4d3d-d3bf-006fa8ed637b"
      },
      "execution_count": null,
      "outputs": [
        {
          "output_type": "stream",
          "name": "stdout",
          "text": [
            "['Addis Ababa', 'Melbourne', 'Seoul', 'Stocholm', 'Stockholm', 'Sydney', 'İstanbul']\n"
          ]
        }
      ]
    },
    {
      "cell_type": "code",
      "source": [
        "Renkler = ['kırmızı', 'mor', 'mavi', 'sarı', 'yeşil']"
      ],
      "metadata": {
        "id": "OQwQki-gSU4e"
      },
      "execution_count": null,
      "outputs": []
    },
    {
      "cell_type": "code",
      "source": [
        "print(Renkler[2])"
      ],
      "metadata": {
        "colab": {
          "base_uri": "https://localhost:8080/"
        },
        "id": "ASeC_RiuS-sd",
        "outputId": "812c34e6-f118-4057-e12a-ffcfb19020bb"
      },
      "execution_count": null,
      "outputs": [
        {
          "output_type": "stream",
          "name": "stdout",
          "text": [
            "mavi\n"
          ]
        }
      ]
    },
    {
      "cell_type": "code",
      "source": [
        "city_list = []\n",
        "city_list.append(city)"
      ],
      "metadata": {
        "id": "WgM7ZkR1TGsd"
      },
      "execution_count": null,
      "outputs": []
    },
    {
      "cell_type": "code",
      "source": [
        "print(city_list)"
      ],
      "metadata": {
        "colab": {
          "base_uri": "https://localhost:8080/"
        },
        "id": "X7dcnQuYTkc8",
        "outputId": "fe6bf711-3760-486b-b175-67987cee3ed2"
      },
      "execution_count": null,
      "outputs": [
        {
          "output_type": "stream",
          "name": "stdout",
          "text": [
            "[['Addis Ababa', 'Melbourne', 'Seoul', 'Stocholm', 'Stockholm', 'Sydney', 'İstanbul']]\n"
          ]
        }
      ]
    },
    {
      "cell_type": "code",
      "source": [
        "print(city_list[0])"
      ],
      "metadata": {
        "colab": {
          "base_uri": "https://localhost:8080/"
        },
        "id": "JhURGr1kTp7D",
        "outputId": "dde10846-c5e1-4b2e-81bf-7558a3080949"
      },
      "execution_count": null,
      "outputs": [
        {
          "output_type": "stream",
          "name": "stdout",
          "text": [
            "['Addis Ababa', 'Melbourne', 'Seoul', 'Stocholm', 'Stockholm', 'Sydney', 'İstanbul']\n"
          ]
        }
      ]
    },
    {
      "cell_type": "code",
      "source": [
        "even_numbers = [2, 4, 6, 8, 10, 12, 14, 16, 18, 20]\n",
        "print(even_numbers[4:9])"
      ],
      "metadata": {
        "colab": {
          "base_uri": "https://localhost:8080/"
        },
        "id": "fQTiEhPKT3F7",
        "outputId": "831be4cd-e98e-48e2-c557-8a335668e47f"
      },
      "execution_count": null,
      "outputs": [
        {
          "output_type": "stream",
          "name": "stdout",
          "text": [
            "[10, 12, 14, 16, 18]\n"
          ]
        }
      ]
    },
    {
      "cell_type": "code",
      "source": [
        "print(len([[12, 34, 56]][0]))"
      ],
      "metadata": {
        "colab": {
          "base_uri": "https://localhost:8080/"
        },
        "id": "S4Qx-ZXqV4PG",
        "outputId": "d41428aa-71b3-422a-db93-292c4b90beaf"
      },
      "execution_count": null,
      "outputs": [
        {
          "output_type": "stream",
          "name": "stdout",
          "text": [
            "3\n"
          ]
        }
      ]
    },
    {
      "cell_type": "code",
      "source": [
        "empty_tuple = ()"
      ],
      "metadata": {
        "id": "jUgnPXsVWWIO"
      },
      "execution_count": null,
      "outputs": []
    },
    {
      "cell_type": "code",
      "source": [
        "print(type(empty_tuple))"
      ],
      "metadata": {
        "colab": {
          "base_uri": "https://localhost:8080/"
        },
        "id": "EOBcXbkYX0aj",
        "outputId": "e4a130d0-c83c-4878-d6a4-d7a7eb9eec47"
      },
      "execution_count": null,
      "outputs": [
        {
          "output_type": "stream",
          "name": "stdout",
          "text": [
            "<class 'tuple'>\n"
          ]
        }
      ]
    },
    {
      "cell_type": "code",
      "source": [
        "print(Ülke)"
      ],
      "metadata": {
        "id": "vbyumkRWX8WU",
        "colab": {
          "base_uri": "https://localhost:8080/"
        },
        "outputId": "2a644156-a575-440e-9b95-8665e8e16374"
      },
      "execution_count": 6,
      "outputs": [
        {
          "output_type": "stream",
          "name": "stdout",
          "text": [
            "['ABD', 'Brezilya', 'İngiltere', 'Almanya', 'Türkiye', 'Yeni Zelanda']\n"
          ]
        }
      ]
    },
    {
      "cell_type": "code",
      "source": [
        "print(Ülke[::-1]) # Tersten yazdırma "
      ],
      "metadata": {
        "colab": {
          "base_uri": "https://localhost:8080/"
        },
        "id": "cg6re2j_999J",
        "outputId": "52859c02-5b54-4fbd-d4ac-565324c377e5"
      },
      "execution_count": 9,
      "outputs": [
        {
          "output_type": "stream",
          "name": "stdout",
          "text": [
            "['Yeni Zelanda', 'Türkiye', 'Almanya', 'İngiltere', 'Brezilya', 'ABD']\n"
          ]
        }
      ]
    },
    {
      "cell_type": "code",
      "source": [
        "yeni_ülkeler = [\"İsveç\", \"Danimarka\", \"Rusya\"]"
      ],
      "metadata": {
        "id": "bPmk5nPd-C_x"
      },
      "execution_count": 10,
      "outputs": []
    },
    {
      "cell_type": "code",
      "source": [
        "Ülke.append(yeni_ülkeler) # Liste üzerine liste eklenebilir\n",
        "print(Ülke)"
      ],
      "metadata": {
        "colab": {
          "base_uri": "https://localhost:8080/"
        },
        "id": "7PVyg5OlAlH8",
        "outputId": "c013db38-1783-4273-e9d0-66999913c669"
      },
      "execution_count": 28,
      "outputs": [
        {
          "output_type": "stream",
          "name": "stdout",
          "text": [
            "['ABD', 'Brezilya', 'İngiltere', 'Almanya', 'Türkiye', 'Yeni Zelanda', ['İsveç', 'Danimarka', 'Rusya']]\n"
          ]
        }
      ]
    },
    {
      "cell_type": "code",
      "source": [
        ""
      ],
      "metadata": {
        "id": "i3HEKuBnBP1D"
      },
      "execution_count": null,
      "outputs": []
    }
  ]
}