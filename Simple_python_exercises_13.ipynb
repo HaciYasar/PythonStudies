{
  "nbformat": 4,
  "nbformat_minor": 0,
  "metadata": {
    "colab": {
      "name": "Simple_python_exercises_13.ipynb",
      "provenance": [],
      "collapsed_sections": [],
      "authorship_tag": "ABX9TyM+yS3DGnUP6X4gcOXeQ44N",
      "include_colab_link": true
    },
    "kernelspec": {
      "name": "python3",
      "display_name": "Python 3"
    },
    "language_info": {
      "name": "python"
    }
  },
  "cells": [
    {
      "cell_type": "markdown",
      "metadata": {
        "id": "view-in-github",
        "colab_type": "text"
      },
      "source": [
        "<a href=\"https://colab.research.google.com/github/HaciYasar/PythonStudies/blob/main/Simple_python_exercises_13.ipynb\" target=\"_parent\"><img src=\"https://colab.research.google.com/assets/colab-badge.svg\" alt=\"Open In Colab\"/></a>"
      ]
    },
    {
      "cell_type": "code",
      "execution_count": null,
      "metadata": {
        "colab": {
          "base_uri": "https://localhost:8080/"
        },
        "id": "A8sFdLZ-rt9j",
        "outputId": "07acad15-b8ae-49b5-a2d6-fc0d4e85e160"
      },
      "outputs": [
        {
          "output_type": "stream",
          "name": "stdout",
          "text": [
            "30\n"
          ]
        }
      ],
      "source": [
        "my_age = 33\n",
        "your_age = 30 \n",
        "my_age = your_age # En son atanan değer dikkate alınır. Çıktı en son değeri görür.\n",
        "print(my_age)   # Atama = ile yapılır. Atama yaptığımız değeri başka bir değerle güncelleye biliriz."
      ]
    },
    {
      "cell_type": "code",
      "source": [
        "my_age # Örnek çıktı."
      ],
      "metadata": {
        "colab": {
          "base_uri": "https://localhost:8080/"
        },
        "id": "uMd2-uEnsQzT",
        "outputId": "10fc01f0-e5e0-4759-e318-805fae40ad70"
      },
      "execution_count": null,
      "outputs": [
        {
          "output_type": "execute_result",
          "data": {
            "text/plain": [
              "30"
            ]
          },
          "metadata": {},
          "execution_count": 2
        }
      ]
    },
    {
      "cell_type": "code",
      "source": [
        "x = y = z = \"same\"\n",
        "print(x)\n",
        "print(y)\n",
        "print(z)    # Tek bir değeri 3 ve daha fazla değişkene atayabiliriz."
      ],
      "metadata": {
        "colab": {
          "base_uri": "https://localhost:8080/"
        },
        "id": "YlCQH5mLs-0b",
        "outputId": "199da450-ca35-4932-99c7-5d741ee9a3c4"
      },
      "execution_count": null,
      "outputs": [
        {
          "output_type": "stream",
          "name": "stdout",
          "text": [
            "same\n",
            "same\n",
            "same\n"
          ]
        }
      ]
    },
    {
      "cell_type": "code",
      "source": [
        "y"
      ],
      "metadata": {
        "colab": {
          "base_uri": "https://localhost:8080/",
          "height": 35
        },
        "id": "y1cowYeZvO_C",
        "outputId": "7442d0b0-9bdb-42f7-d54f-74dd0b23ca3d"
      },
      "execution_count": null,
      "outputs": [
        {
          "output_type": "execute_result",
          "data": {
            "application/vnd.google.colaboratory.intrinsic+json": {
              "type": "string"
            },
            "text/plain": [
              "'same'"
            ]
          },
          "metadata": {},
          "execution_count": 4
        }
      ]
    },
    {
      "cell_type": "code",
      "source": [
        "x"
      ],
      "metadata": {
        "colab": {
          "base_uri": "https://localhost:8080/",
          "height": 35
        },
        "id": "L6GqgjJFvfT2",
        "outputId": "9671889e-4b0b-4176-d92c-f48e6b1d1a73"
      },
      "execution_count": null,
      "outputs": [
        {
          "output_type": "execute_result",
          "data": {
            "application/vnd.google.colaboratory.intrinsic+json": {
              "type": "string"
            },
            "text/plain": [
              "'same'"
            ]
          },
          "metadata": {},
          "execution_count": 5
        }
      ]
    },
    {
      "cell_type": "code",
      "source": [
        "jan = march = may = july = agust = october = december = 31\n",
        "april = june = sept = now = 30  # Eşittirlerle birbirine eşitleyebiliriz.\n",
        "feb = 28,\n",
        "print(28, 30, 31)     # Atama yaparken bir tek değeri farklı değişkenlere atayabiliriz"
      ],
      "metadata": {
        "colab": {
          "base_uri": "https://localhost:8080/"
        },
        "id": "NSjpOfW6vgIU",
        "outputId": "4f23e922-f9e8-4293-9b50-34f0a80011ad"
      },
      "execution_count": null,
      "outputs": [
        {
          "output_type": "stream",
          "name": "stdout",
          "text": [
            "28 30 31\n"
          ]
        }
      ]
    },
    {
      "cell_type": "code",
      "source": [
        "thomas = 32\n",
        "marry = 28\n",
        "walter = None   # Değişkeni None ile rezerve edebiliriz.\n",
        "isabella = 46"
      ],
      "metadata": {
        "id": "U_qVqItqwzTM"
      },
      "execution_count": null,
      "outputs": []
    },
    {
      "cell_type": "code",
      "source": [
        "x = 15\n",
        "y = 33 \n",
        "z = x\n",
        "x = y\n",
        "print(x)\n",
        "print(y)\n",
        "print(z)    # Atanılan değeri bir başka değerle güncelleyebiliriz."
      ],
      "metadata": {
        "colab": {
          "base_uri": "https://localhost:8080/"
        },
        "id": "8Hcs4qHGy8qh",
        "outputId": "3f36a02f-583b-4e53-e4bc-b12fb1988982"
      },
      "execution_count": null,
      "outputs": [
        {
          "output_type": "stream",
          "name": "stdout",
          "text": [
            "33\n",
            "33\n",
            "15\n"
          ]
        }
      ]
    },
    {
      "cell_type": "code",
      "source": [
        "a, b, c, = 5, 3.2, \"Hello\"\n",
        "print(a, b, c)    # Aynı satırda atama yapılabilir. Sıraya göre atama yapar."
      ],
      "metadata": {
        "colab": {
          "base_uri": "https://localhost:8080/"
        },
        "id": "xApX1vFm0vkH",
        "outputId": "752aeb0a-22fa-4355-fd7f-349ea7bf5e31"
      },
      "execution_count": null,
      "outputs": [
        {
          "output_type": "stream",
          "name": "stdout",
          "text": [
            "5 3.2 Hello\n"
          ]
        }
      ]
    },
    {
      "cell_type": "code",
      "source": [
        "my_text = 'iyi insan olun'"
      ],
      "metadata": {
        "id": "OJWFUGTb1bt6"
      },
      "execution_count": null,
      "outputs": []
    },
    {
      "cell_type": "code",
      "source": [
        "print(my_text)"
      ],
      "metadata": {
        "colab": {
          "base_uri": "https://localhost:8080/"
        },
        "id": "6OGVW0Dc3FUl",
        "outputId": "eae2bd28-f874-4f85-d4ff-b048def87ad7"
      },
      "execution_count": null,
      "outputs": [
        {
          "output_type": "stream",
          "name": "stdout",
          "text": [
            "iyi insan olun\n"
          ]
        }
      ]
    },
    {
      "cell_type": "code",
      "source": [
        "type(my_text) # Atadığımız değerin tipini type ile öğrenebiliriz."
      ],
      "metadata": {
        "colab": {
          "base_uri": "https://localhost:8080/"
        },
        "id": "kssWTdYe3LDF",
        "outputId": "837d970d-26e4-48ba-89c5-1277793b6b86"
      },
      "execution_count": null,
      "outputs": [
        {
          "output_type": "execute_result",
          "data": {
            "text/plain": [
              "str"
            ]
          },
          "metadata": {},
          "execution_count": 20
        }
      ]
    },
    {
      "cell_type": "code",
      "source": [
        "type(a) # Örnek 2"
      ],
      "metadata": {
        "colab": {
          "base_uri": "https://localhost:8080/"
        },
        "id": "u9jgvoDX3Wol",
        "outputId": "01b01fee-f379-4389-bc04-c00d1fb5df83"
      },
      "execution_count": null,
      "outputs": [
        {
          "output_type": "execute_result",
          "data": {
            "text/plain": [
              "int"
            ]
          },
          "metadata": {},
          "execution_count": 21
        }
      ]
    },
    {
      "cell_type": "code",
      "source": [
        "str_number = \"1923\"\n",
        "str_sing = \"%(#&*?-\""
      ],
      "metadata": {
        "id": "q9YlVzG83qYe"
      },
      "execution_count": null,
      "outputs": []
    },
    {
      "cell_type": "code",
      "source": [
        "print(str_number)\n",
        "print(str_sing)\n",
        "print(type(str_number), type(str_sing)) # type fonksiyonu str diye bir şeyi kabul etmez."
      ],
      "metadata": {
        "colab": {
          "base_uri": "https://localhost:8080/"
        },
        "id": "p4066hj70SLQ",
        "outputId": "fa681492-804a-4572-8927-e3b91f6a097a"
      },
      "execution_count": null,
      "outputs": [
        {
          "output_type": "stream",
          "name": "stdout",
          "text": [
            "1923\n",
            "%(#&*?-\n",
            "<class 'str'> <class 'str'>\n"
          ]
        }
      ]
    },
    {
      "cell_type": "code",
      "source": [
        "# Ondalık olmayan sayılara integer sayılar denir. Tam sayılardır negatif ve pozitif."
      ],
      "metadata": {
        "id": "r5cgjANI0kFh"
      },
      "execution_count": null,
      "outputs": []
    },
    {
      "cell_type": "code",
      "source": [
        "# Float sayılar noktalı sayılardır. 18.66 - 40.0 gibi."
      ],
      "metadata": {
        "id": "DvPuGxTQ3dyp"
      },
      "execution_count": null,
      "outputs": []
    },
    {
      "cell_type": "code",
      "source": [
        "10 == 10.0 # Örnek"
      ],
      "metadata": {
        "colab": {
          "base_uri": "https://localhost:8080/"
        },
        "id": "BIw3S0Pf30Xa",
        "outputId": "c0625f63-6621-4acc-bd4d-fb0e73fa3446"
      },
      "execution_count": null,
      "outputs": [
        {
          "output_type": "execute_result",
          "data": {
            "text/plain": [
              "True"
            ]
          },
          "metadata": {},
          "execution_count": 4
        }
      ]
    },
    {
      "cell_type": "code",
      "source": [
        "float(0) # Örnek"
      ],
      "metadata": {
        "colab": {
          "base_uri": "https://localhost:8080/"
        },
        "id": "qMDq2lZ935ld",
        "outputId": "905fb73c-0c28-4f06-a7b4-9f0065936e48"
      },
      "execution_count": null,
      "outputs": [
        {
          "output_type": "execute_result",
          "data": {
            "text/plain": [
              "0.0"
            ]
          },
          "metadata": {},
          "execution_count": 5
        }
      ]
    },
    {
      "cell_type": "code",
      "source": [
        "\"10\"    #string\n",
        "10      #integer\n",
        "10.10   #float"
      ],
      "metadata": {
        "id": "jSOipfZF4HK2"
      },
      "execution_count": null,
      "outputs": []
    },
    {
      "cell_type": "code",
      "source": [
        "type(0.0) # Örnek tam sayılarda negatif olabiliyor floatlarda float olabliyor."
      ],
      "metadata": {
        "colab": {
          "base_uri": "https://localhost:8080/"
        },
        "id": "fIsZ0b9y4aiZ",
        "outputId": "676d95e7-3fce-4a4c-a851-269e73d046a1"
      },
      "execution_count": null,
      "outputs": [
        {
          "output_type": "execute_result",
          "data": {
            "text/plain": [
              "float"
            ]
          },
          "metadata": {},
          "execution_count": 6
        }
      ]
    },
    {
      "cell_type": "code",
      "source": [
        "# Boolean true false alır."
      ],
      "metadata": {
        "id": "yul0P07D4oVX"
      },
      "execution_count": null,
      "outputs": []
    },
    {
      "cell_type": "code",
      "source": [
        "# str() fonksiyonu string e çevirir. Fonksiyonlar parantezler ile çağırılır.\n",
        "# int() fonksiyonu integer e çevirir.\n",
        "# float() fonksiyonu float a çevirir."
      ],
      "metadata": {
        "id": "Xf2QsfOY4-rX"
      },
      "execution_count": null,
      "outputs": []
    },
    {
      "cell_type": "code",
      "source": [
        "int(\"10\") # String i integer a dönüştürür."
      ],
      "metadata": {
        "colab": {
          "base_uri": "https://localhost:8080/"
        },
        "id": "9Q8VK1YD6CIB",
        "outputId": "172e79ea-64e4-4fa6-8adb-6006ca1a20f7"
      },
      "execution_count": null,
      "outputs": [
        {
          "output_type": "execute_result",
          "data": {
            "text/plain": [
              "10"
            ]
          },
          "metadata": {},
          "execution_count": 7
        }
      ]
    },
    {
      "cell_type": "code",
      "source": [
        "a = int(\"11\")   # Örnek\n",
        "type(a)"
      ],
      "metadata": {
        "colab": {
          "base_uri": "https://localhost:8080/"
        },
        "id": "LTDdICxB6itK",
        "outputId": "82f4bf55-9505-447a-9fea-10fae89f85f5"
      },
      "execution_count": null,
      "outputs": [
        {
          "output_type": "execute_result",
          "data": {
            "text/plain": [
              "int"
            ]
          },
          "metadata": {},
          "execution_count": 8
        }
      ]
    },
    {
      "cell_type": "code",
      "source": [
        "int(\"onbir\") # Stringe mantıklı textler integere çevirmeliyiz\n",
        "int(\"ten\")"
      ],
      "metadata": {
        "colab": {
          "base_uri": "https://localhost:8080/",
          "height": 182
        },
        "id": "ex_H3QAD6wK8",
        "outputId": "94dacfcc-4430-460f-f9a2-9acf45317358"
      },
      "execution_count": null,
      "outputs": [
        {
          "output_type": "error",
          "ename": "ValueError",
          "evalue": "ignored",
          "traceback": [
            "\u001b[0;31m---------------------------------------------------------------------------\u001b[0m",
            "\u001b[0;31mValueError\u001b[0m                                Traceback (most recent call last)",
            "\u001b[0;32m<ipython-input-9-6578afcc0cc8>\u001b[0m in \u001b[0;36m<module>\u001b[0;34m()\u001b[0m\n\u001b[0;32m----> 1\u001b[0;31m \u001b[0mint\u001b[0m\u001b[0;34m(\u001b[0m\u001b[0;34m\"onbir\"\u001b[0m\u001b[0;34m)\u001b[0m\u001b[0;34m\u001b[0m\u001b[0;34m\u001b[0m\u001b[0m\n\u001b[0m\u001b[1;32m      2\u001b[0m \u001b[0mint\u001b[0m\u001b[0;34m(\u001b[0m\u001b[0;34m\"ten\"\u001b[0m\u001b[0;34m)\u001b[0m\u001b[0;34m\u001b[0m\u001b[0;34m\u001b[0m\u001b[0m\n",
            "\u001b[0;31mValueError\u001b[0m: invalid literal for int() with base 10: 'onbir'"
          ]
        }
      ]
    },
    {
      "cell_type": "code",
      "source": [
        "pi = 3.14\n",
        "converted_pi = str(pi)\n",
        "print(converted_pi)\n",
        "print(type(converted_pi))"
      ],
      "metadata": {
        "colab": {
          "base_uri": "https://localhost:8080/"
        },
        "id": "PYFznhTr6-sk",
        "outputId": "f44a867e-bbfe-41ea-9ec2-6f1ef828ab52"
      },
      "execution_count": null,
      "outputs": [
        {
          "output_type": "stream",
          "name": "stdout",
          "text": [
            "3.14\n",
            "<class 'str'>\n"
          ]
        }
      ]
    },
    {
      "cell_type": "code",
      "source": [
        "str(3.14) # Float stringe çevrilebilir."
      ],
      "metadata": {
        "colab": {
          "base_uri": "https://localhost:8080/",
          "height": 35
        },
        "id": "Xj8xntsE7mPm",
        "outputId": "0f206ff7-a793-4078-d907-20622828b7d4"
      },
      "execution_count": null,
      "outputs": [
        {
          "output_type": "execute_result",
          "data": {
            "application/vnd.google.colaboratory.intrinsic+json": {
              "type": "string"
            },
            "text/plain": [
              "'3.14'"
            ]
          },
          "metadata": {},
          "execution_count": 11
        }
      ]
    },
    {
      "cell_type": "code",
      "source": [
        "int(3.14) #İnteger fonksiyonu virgülden sonrasımnı alıyor. Tam sayıya çeviriyor."
      ],
      "metadata": {
        "colab": {
          "base_uri": "https://localhost:8080/"
        },
        "id": "ZTItgFCb86s6",
        "outputId": "14a92aff-e63f-4612-a265-467e8727dfa9"
      },
      "execution_count": null,
      "outputs": [
        {
          "output_type": "execute_result",
          "data": {
            "text/plain": [
              "3"
            ]
          },
          "metadata": {},
          "execution_count": 12
        }
      ]
    },
    {
      "cell_type": "code",
      "source": [
        "float(11)  # İnteger i floata çevirebiliriz."
      ],
      "metadata": {
        "colab": {
          "base_uri": "https://localhost:8080/"
        },
        "id": "bUBCYJcc9l6U",
        "outputId": "bb2a8d4e-255d-440e-80ae-c56f81bd914a"
      },
      "execution_count": null,
      "outputs": [
        {
          "output_type": "execute_result",
          "data": {
            "text/plain": [
              "11.0"
            ]
          },
          "metadata": {},
          "execution_count": 13
        }
      ]
    },
    {
      "cell_type": "code",
      "source": [
        "x = 39\n",
        "v = \"11\"\n",
        "y = \"2.5\"\n",
        "z = \"I am at_\""
      ],
      "metadata": {
        "id": "05GfZfPw91Iu"
      },
      "execution_count": null,
      "outputs": []
    },
    {
      "cell_type": "code",
      "source": [
        "print(x-int(v))   # Bu şekilde işlemler yapılabilir.\n",
        "print(x-float(y))\n",
        "print(z+str(x)) "
      ],
      "metadata": {
        "colab": {
          "base_uri": "https://localhost:8080/"
        },
        "id": "bUl2DUs1BHNX",
        "outputId": "ff5a634c-bfa0-4b29-8d7f-404161bf0a94"
      },
      "execution_count": null,
      "outputs": [
        {
          "output_type": "stream",
          "name": "stdout",
          "text": [
            "28\n",
            "36.5\n",
            "I am at_39\n"
          ]
        }
      ]
    },
    {
      "cell_type": "code",
      "source": [
        "\"33\" + \"44\"   # String olarak toplama yapıldığında sayıları birbirinr yapıştırır."
      ],
      "metadata": {
        "colab": {
          "base_uri": "https://localhost:8080/",
          "height": 35
        },
        "id": "2Vl_gtv6Bnf_",
        "outputId": "1d815e0c-3ebc-4585-9b69-4a6750791b7e"
      },
      "execution_count": null,
      "outputs": [
        {
          "output_type": "execute_result",
          "data": {
            "application/vnd.google.colaboratory.intrinsic+json": {
              "type": "string"
            },
            "text/plain": [
              "'3344'"
            ]
          },
          "metadata": {},
          "execution_count": 16
        }
      ]
    },
    {
      "cell_type": "code",
      "source": [
        "33 + 11 # İnteger olarak toplama yapılabilir."
      ],
      "metadata": {
        "colab": {
          "base_uri": "https://localhost:8080/"
        },
        "id": "Pv9RaqFIB8X-",
        "outputId": "210b55a2-2c33-4f5e-a6eb-b64c1da3b344"
      },
      "execution_count": null,
      "outputs": [
        {
          "output_type": "execute_result",
          "data": {
            "text/plain": [
              "44"
            ]
          },
          "metadata": {},
          "execution_count": 17
        }
      ]
    },
    {
      "cell_type": "code",
      "source": [
        "\"33\" + 11   # Bir strinle bir integer i toplayamazsınız."
      ],
      "metadata": {
        "colab": {
          "base_uri": "https://localhost:8080/",
          "height": 165
        },
        "id": "rwOruHwuCFZW",
        "outputId": "e05d2c51-d180-4f06-b7f5-51c22ad47940"
      },
      "execution_count": null,
      "outputs": [
        {
          "output_type": "error",
          "ename": "TypeError",
          "evalue": "ignored",
          "traceback": [
            "\u001b[0;31m---------------------------------------------------------------------------\u001b[0m",
            "\u001b[0;31mTypeError\u001b[0m                                 Traceback (most recent call last)",
            "\u001b[0;32m<ipython-input-18-6450f5da6243>\u001b[0m in \u001b[0;36m<module>\u001b[0;34m()\u001b[0m\n\u001b[0;32m----> 1\u001b[0;31m \u001b[0;34m\"33\"\u001b[0m \u001b[0;34m+\u001b[0m \u001b[0;36m11\u001b[0m\u001b[0;34m\u001b[0m\u001b[0;34m\u001b[0m\u001b[0m\n\u001b[0m",
            "\u001b[0;31mTypeError\u001b[0m: can only concatenate str (not \"int\") to str"
          ]
        }
      ]
    },
    {
      "cell_type": "code",
      "source": [
        "number_int = 123\n",
        "number_flt = 1.23\n",
        "number_new = number_int + number_flt"
      ],
      "metadata": {
        "id": "rdc0UtEnCUif"
      },
      "execution_count": null,
      "outputs": []
    },
    {
      "cell_type": "code",
      "source": [
        "print(\"datatype of number_int:\", type(number_int))"
      ],
      "metadata": {
        "colab": {
          "base_uri": "https://localhost:8080/"
        },
        "id": "6N1SLlkxDAPU",
        "outputId": "44ee1a49-40f4-4094-891a-4f5851bb869b"
      },
      "execution_count": null,
      "outputs": [
        {
          "output_type": "stream",
          "name": "stdout",
          "text": [
            "datatype of number_int: <class 'int'>\n"
          ]
        }
      ]
    },
    {
      "cell_type": "code",
      "source": [
        "# + toplam\n",
        "# - çıkartma\n",
        "# * çarpma\n",
        "# / bölme\n",
        "# // bölmede bölüm\n",
        "# % bölmede kalan\n",
        "# ** üstlü sayılar\n",
        "# % flor sonuç"
      ],
      "metadata": {
        "id": "R5lB3H8SDOcE"
      },
      "execution_count": null,
      "outputs": []
    },
    {
      "cell_type": "code",
      "source": [
        "43 // 5 #floor kullanılırsa bölüm sonucunu alırız."
      ],
      "metadata": {
        "colab": {
          "base_uri": "https://localhost:8080/"
        },
        "id": "8A0AOXL3lNa3",
        "outputId": "75a8e350-73c5-4c0b-ba4d-716de3c86b39"
      },
      "execution_count": null,
      "outputs": [
        {
          "output_type": "execute_result",
          "data": {
            "text/plain": [
              "8"
            ]
          },
          "metadata": {},
          "execution_count": 3
        }
      ]
    },
    {
      "cell_type": "code",
      "source": [
        "43 % 5 # moodulus kullanırsak kalan sonucu alırız."
      ],
      "metadata": {
        "colab": {
          "base_uri": "https://localhost:8080/"
        },
        "id": "7cz5j0AilO5F",
        "outputId": "29d37b33-3dff-473c-af54-1bfa240575e4"
      },
      "execution_count": null,
      "outputs": [
        {
          "output_type": "execute_result",
          "data": {
            "text/plain": [
              "3"
            ]
          },
          "metadata": {},
          "execution_count": 4
        }
      ]
    },
    {
      "cell_type": "code",
      "source": [
        " num1, num2 = 81, 55    # Atanan textler sayı ise işlem yapılabilir.\n",
        " num3 = num1 - num2\n",
        "print(num3)"
      ],
      "metadata": {
        "colab": {
          "base_uri": "https://localhost:8080/"
        },
        "id": "2HNu3z6elQvB",
        "outputId": "647f5f09-1519-41ad-925d-8865f35c6709"
      },
      "execution_count": null,
      "outputs": [
        {
          "output_type": "stream",
          "name": "stdout",
          "text": [
            "26\n"
          ]
        }
      ]
    },
    {
      "cell_type": "code",
      "source": [
        "pi = 3.14   # Üçgen alanı hesaplama\n",
        "r = 5\n",
        "area = pi * r**2\n",
        "print(area)"
      ],
      "metadata": {
        "colab": {
          "base_uri": "https://localhost:8080/"
        },
        "id": "Rf1lDPYxmEuY",
        "outputId": "4cd4a684-d43f-42ff-a8a9-a64864529e5e"
      },
      "execution_count": null,
      "outputs": [
        {
          "output_type": "stream",
          "name": "stdout",
          "text": [
            "78.5\n"
          ]
        }
      ]
    },
    {
      "cell_type": "code",
      "source": [
        ""
      ],
      "metadata": {
        "id": "K34RfJzWmqIW"
      },
      "execution_count": null,
      "outputs": []
    }
  ]
}